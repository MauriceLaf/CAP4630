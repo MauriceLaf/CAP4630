{
  "nbformat": 4,
  "nbformat_minor": 0,
  "metadata": {
    "colab": {
      "name": "Homework_1_MauriceLaflamme.ipynb",
      "provenance": [],
      "collapsed_sections": [],
      "authorship_tag": "ABX9TyO7w2/bv0METEz3fQ/BNF5O",
      "include_colab_link": true
    },
    "kernelspec": {
      "name": "python3",
      "display_name": "Python 3"
    }
  },
  "cells": [
    {
      "cell_type": "markdown",
      "metadata": {
        "id": "view-in-github",
        "colab_type": "text"
      },
      "source": [
        "<a href=\"https://colab.research.google.com/github/MauriceLaf/CAP4630/blob/master/Homework_1_MauriceLaflamme.ipynb\" target=\"_parent\"><img src=\"https://colab.research.google.com/assets/colab-badge.svg\" alt=\"Open In Colab\"/></a>"
      ]
    },
    {
      "cell_type": "markdown",
      "metadata": {
        "id": "ojfnClezoabI",
        "colab_type": "text"
      },
      "source": [
        "#Homework 1"
      ]
    },
    {
      "cell_type": "markdown",
      "metadata": {
        "id": "Z79RiHSf9Ytf",
        "colab_type": "text"
      },
      "source": [
        "###Imports and Exceptions"
      ]
    },
    {
      "cell_type": "code",
      "metadata": {
        "id": "YKJSzXgsstcx",
        "colab_type": "code",
        "colab": {}
      },
      "source": [
        "import numpy as np"
      ],
      "execution_count": 0,
      "outputs": []
    },
    {
      "cell_type": "code",
      "metadata": {
        "id": "9a_ckb8Hlf82",
        "colab_type": "code",
        "colab": {}
      },
      "source": [
        "class MatrixNotCompatibleException(Exception):\n",
        "    \"\"\"Raised when incompatible matrices are multiplied\"\"\"\n",
        "class EmptyList(Exception):\n",
        "    \"\"\"Raised when list is empty\"\"\""
      ],
      "execution_count": 0,
      "outputs": []
    },
    {
      "cell_type": "markdown",
      "metadata": {
        "id": "cyOBI9pG3NWe",
        "colab_type": "text"
      },
      "source": [
        "Multiply Matrices Function\n",
        "-----\n",
        "#####This function takes in a list of numpy arrays and multiplies them together, if they are compatible.\n",
        "\n",
        "\n",
        "\n"
      ]
    },
    {
      "cell_type": "markdown",
      "metadata": {
        "id": "JBLySnw16K36",
        "colab_type": "text"
      },
      "source": [
        "A matrix, M, can be multiplied with another matrix, N, when the matrix M has as many columns as the matrix N has rows. An example of two compatible matrices would be as follows:\n",
        "\n",
        "$$M=\n",
        "  \\begin{bmatrix}\n",
        "    1 & 2 & 3 & 4 & 5 \\\\\n",
        "    1 & 2 & 3 & 4 & 5\n",
        "  \\end{bmatrix}$$\n",
        "\n",
        "$$N=\n",
        "  \\begin{bmatrix}\n",
        "    1 & 2 \\\\\n",
        "    2 & 3 \\\\\n",
        "    3 & 4 \\\\\n",
        "    4 & 5 \\\\\n",
        "    5 & 6\n",
        "  \\end{bmatrix}$$\n"
      ]
    },
    {
      "cell_type": "code",
      "metadata": {
        "id": "uyBmAur43Noj",
        "colab_type": "code",
        "colab": {}
      },
      "source": [
        "def multiply_matrices(matrices):\n",
        "    if not matrices:\n",
        "        print(\"ERROR: List is empty\")\n",
        "        raise EmptyList\n",
        "    flag = 1\n",
        "    for matrix in matrices:\n",
        "        if flag == 1:\n",
        "            flag = 0\n",
        "            prevMatrix = matrix\n",
        "        else:\n",
        "            if prevMatrix.shape[1] != matrix.shape[0]:\n",
        "                print(\"ERROR: Cannot multiply first/previously determined product:\")\n",
        "                print(prevMatrix)\n",
        "                print(\"with:\")\n",
        "                print(matrix)\n",
        "                print(\"There is a column/row mismatch.\")\n",
        "                raise MatrixNotCompatible\n",
        "            else:\n",
        "                prevMatrix = prevMatrix.dot(matrix)\n",
        "    print(\"Final Answer is:\")\n",
        "    print()\n",
        "    print(prevMatrix)\n"
      ],
      "execution_count": 0,
      "outputs": []
    },
    {
      "cell_type": "markdown",
      "metadata": {
        "id": "W5j3l7Rc50wQ",
        "colab_type": "text"
      },
      "source": [
        "Test Cases\n",
        "-----\n",
        "\n",
        "\n"
      ]
    },
    {
      "cell_type": "markdown",
      "metadata": {
        "id": "5yIx7-fq77kJ",
        "colab_type": "text"
      },
      "source": [
        "###Case 1\n"
      ]
    },
    {
      "cell_type": "markdown",
      "metadata": {
        "id": "pdrwneZq6bS1",
        "colab_type": "text"
      },
      "source": [
        "This first test case involves multiplying three matrices: L, M, and N.\n",
        "\n",
        "$$L=\n",
        "  \\begin{bmatrix}\n",
        "    0 & 1 & 1 \\\\\n",
        "    4 & 5 & 1 \\\\\n",
        "    2 & 3 & 4\n",
        "  \\end{bmatrix}$$\n",
        "\n",
        "$$M=\n",
        "  \\begin{bmatrix}\n",
        "    1 & 2 \\\\\n",
        "    2 & 3 \\\\\n",
        "    1 & 2 \\\\\n",
        "  \\end{bmatrix}$$\n",
        "$$N=\n",
        "  \\begin{bmatrix}\n",
        "    1 & 2 & 3 & 4 & 5 \\\\\n",
        "    1 & 2 & 3 & 4 & 5 \\\\\n",
        "    1 & 2 & 3 & 4 & 5\n",
        "  \\end{bmatrix}$$\n"
      ]
    },
    {
      "cell_type": "markdown",
      "metadata": {
        "id": "mXzF-dk76_p3",
        "colab_type": "text"
      },
      "source": [
        "These are not compatible, as the output of L * M is\n",
        "\n",
        "$$L * M=\\begin{bmatrix}\n",
        "    3 & 5 \\\\\n",
        "    15 & 25 \\\\\n",
        "    12 & 21 \\\\\n",
        "  \\end{bmatrix}\n",
        "$$ \n",
        "\n",
        "Which contains 2 columns, while N has 3 rows. This will lead to an exception due to the mismatch."
      ]
    },
    {
      "cell_type": "code",
      "metadata": {
        "id": "_dfmfX0uso2n",
        "colab_type": "code",
        "colab": {
          "base_uri": "https://localhost:8080/",
          "height": 656
        },
        "outputId": "da0dbe36-317a-46ef-922b-a66f6188549f"
      },
      "source": [
        "array1 = np.array(([[0,1,1],\n",
        "                    [4,5,1],\n",
        "                    [2,3,4]]))\n",
        "array2 = np.array([[1,2],\n",
        "                   [2,3],\n",
        "                   [1,2]])\n",
        "array3 = np.array([[1,2,3,4,5],\n",
        "                   [1,2,3,4,5],\n",
        "                   [1,2,3,4,5]])\n",
        "test = [array1, array2, array3]\n",
        "print(test[0])\n",
        "print(test[1])\n",
        "print(test[2])\n",
        "print()\n",
        "print()\n",
        "multiply_matrices(test)"
      ],
      "execution_count": 119,
      "outputs": [
        {
          "output_type": "stream",
          "text": [
            "[[0 1 1]\n",
            " [4 5 1]\n",
            " [2 3 4]]\n",
            "[[1 2]\n",
            " [2 3]\n",
            " [1 2]]\n",
            "[[1 2 3 4 5]\n",
            " [1 2 3 4 5]\n",
            " [1 2 3 4 5]]\n",
            "\n",
            "\n",
            "ERROR: Cannot multiply first/previously determined product:\n",
            "[[ 3  5]\n",
            " [15 25]\n",
            " [12 21]]\n",
            "with:\n",
            "[[1 2 3 4 5]\n",
            " [1 2 3 4 5]\n",
            " [1 2 3 4 5]]\n",
            "There is a column/row mismatch.\n"
          ],
          "name": "stdout"
        },
        {
          "output_type": "error",
          "ename": "MatrixNotCompatible",
          "evalue": "ignored",
          "traceback": [
            "\u001b[0;31m---------------------------------------------------------------------------\u001b[0m",
            "\u001b[0;31mMatrixNotCompatible\u001b[0m                       Traceback (most recent call last)",
            "\u001b[0;32m<ipython-input-119-94ff20a6e638>\u001b[0m in \u001b[0;36m<module>\u001b[0;34m()\u001b[0m\n\u001b[1;32m      8\u001b[0m \u001b[0mprint\u001b[0m\u001b[0;34m(\u001b[0m\u001b[0;34m)\u001b[0m\u001b[0;34m\u001b[0m\u001b[0;34m\u001b[0m\u001b[0m\n\u001b[1;32m      9\u001b[0m \u001b[0mprint\u001b[0m\u001b[0;34m(\u001b[0m\u001b[0;34m)\u001b[0m\u001b[0;34m\u001b[0m\u001b[0;34m\u001b[0m\u001b[0m\n\u001b[0;32m---> 10\u001b[0;31m \u001b[0mmultiply_matrices\u001b[0m\u001b[0;34m(\u001b[0m\u001b[0mtest\u001b[0m\u001b[0;34m)\u001b[0m\u001b[0;34m\u001b[0m\u001b[0;34m\u001b[0m\u001b[0m\n\u001b[0m",
            "\u001b[0;32m<ipython-input-117-ba365ed7cefb>\u001b[0m in \u001b[0;36mmultiply_matrices\u001b[0;34m(matrices)\u001b[0m\n\u001b[1;32m     15\u001b[0m                 \u001b[0mprint\u001b[0m\u001b[0;34m(\u001b[0m\u001b[0mmatrix\u001b[0m\u001b[0;34m)\u001b[0m\u001b[0;34m\u001b[0m\u001b[0;34m\u001b[0m\u001b[0m\n\u001b[1;32m     16\u001b[0m                 \u001b[0mprint\u001b[0m\u001b[0;34m(\u001b[0m\u001b[0;34m\"There is a column/row mismatch.\"\u001b[0m\u001b[0;34m)\u001b[0m\u001b[0;34m\u001b[0m\u001b[0;34m\u001b[0m\u001b[0m\n\u001b[0;32m---> 17\u001b[0;31m                 \u001b[0;32mraise\u001b[0m \u001b[0mMatrixNotCompatible\u001b[0m\u001b[0;34m\u001b[0m\u001b[0;34m\u001b[0m\u001b[0m\n\u001b[0m\u001b[1;32m     18\u001b[0m             \u001b[0;32melse\u001b[0m\u001b[0;34m:\u001b[0m\u001b[0;34m\u001b[0m\u001b[0;34m\u001b[0m\u001b[0m\n\u001b[1;32m     19\u001b[0m                 \u001b[0mprevMatrix\u001b[0m \u001b[0;34m=\u001b[0m \u001b[0mprevMatrix\u001b[0m\u001b[0;34m.\u001b[0m\u001b[0mdot\u001b[0m\u001b[0;34m(\u001b[0m\u001b[0mmatrix\u001b[0m\u001b[0;34m)\u001b[0m\u001b[0;34m\u001b[0m\u001b[0;34m\u001b[0m\u001b[0m\n",
            "\u001b[0;31mMatrixNotCompatible\u001b[0m: "
          ]
        }
      ]
    },
    {
      "cell_type": "markdown",
      "metadata": {
        "id": "p_azUZ4q7-1s",
        "colab_type": "text"
      },
      "source": [
        "###Case 2"
      ]
    },
    {
      "cell_type": "markdown",
      "metadata": {
        "id": "6KjMFRKM8EQL",
        "colab_type": "text"
      },
      "source": [
        "This next test case involves multiplying three matrices: L, M, and N.\n",
        "\n",
        "$$L=\n",
        "  \\begin{bmatrix}\n",
        "    0 & 1 & 1 \\\\\n",
        "    4 & 5 & 1 \\\\\n",
        "    2 & 3 & 4\n",
        "  \\end{bmatrix}$$\n",
        "\n",
        "$$M=\n",
        "  \\begin{bmatrix}\n",
        "    1 & 2 \\\\\n",
        "    2 & 3 \\\\\n",
        "    1 & 2 \\\\\n",
        "  \\end{bmatrix}$$\n",
        "$$N=\n",
        "  \\begin{bmatrix}\n",
        "    1 & 2 & 3 & 4 & 5 \\\\\n",
        "    1 & 2 & 3 & 4 & 5 \n",
        "  \\end{bmatrix}$$\n",
        "\n",
        "These are extremely similar to the first test cases matrices, but N is now only 2 rows. This removes the column/row mismatch."
      ]
    },
    {
      "cell_type": "code",
      "metadata": {
        "id": "gFMS7sVI8TMJ",
        "colab_type": "code",
        "colab": {
          "base_uri": "https://localhost:8080/",
          "height": 272
        },
        "outputId": "fe376fa9-5a44-4710-97d0-e5eada398512"
      },
      "source": [
        "array1a = np.array(([[0,1,1],\n",
        "                     [4,5,1],\n",
        "                     [2,3,4]]))\n",
        "array2a = np.array([[1,2],\n",
        "                    [2,3],\n",
        "                    [1,2]])\n",
        "array3a = np.array([[1,2,3,4,5],\n",
        "                    [1,2,3,4,5]])\n",
        "test1 = [array1a, array2a, array3a]\n",
        "print(test1[0])\n",
        "print(test1[1])\n",
        "print(test1[2])\n",
        "print()\n",
        "print()\n",
        "multiply_matrices(test1)"
      ],
      "execution_count": 120,
      "outputs": [
        {
          "output_type": "stream",
          "text": [
            "[[0 1 1]\n",
            " [4 5 1]\n",
            " [2 3 4]]\n",
            "[[1 2]\n",
            " [2 3]\n",
            " [1 2]]\n",
            "[[1 2 3 4 5]\n",
            " [1 2 3 4 5]]\n",
            "\n",
            "\n",
            "Final Answer is:\n",
            "\n",
            "[[  8  16  24  32  40]\n",
            " [ 40  80 120 160 200]\n",
            " [ 33  66  99 132 165]]\n"
          ],
          "name": "stdout"
        }
      ]
    },
    {
      "cell_type": "markdown",
      "metadata": {
        "id": "dC6r3e1C9h7W",
        "colab_type": "text"
      },
      "source": [
        "###Case 3"
      ]
    },
    {
      "cell_type": "markdown",
      "metadata": {
        "id": "Y0kLWdw59k-l",
        "colab_type": "text"
      },
      "source": [
        "Empty List Case"
      ]
    },
    {
      "cell_type": "code",
      "metadata": {
        "id": "rSlSfJQe9nfV",
        "colab_type": "code",
        "colab": {
          "base_uri": "https://localhost:8080/",
          "height": 316
        },
        "outputId": "fec35abd-a5f7-4f4c-b3d7-7faa1fec89ec"
      },
      "source": [
        "nolist = []\n",
        "multiply_matrices(nolist)"
      ],
      "execution_count": 122,
      "outputs": [
        {
          "output_type": "stream",
          "text": [
            "ERROR: List is empty\n"
          ],
          "name": "stdout"
        },
        {
          "output_type": "error",
          "ename": "EmptyList",
          "evalue": "ignored",
          "traceback": [
            "\u001b[0;31m---------------------------------------------------------------------------\u001b[0m",
            "\u001b[0;31mEmptyList\u001b[0m                                 Traceback (most recent call last)",
            "\u001b[0;32m<ipython-input-122-b4fa496697b2>\u001b[0m in \u001b[0;36m<module>\u001b[0;34m()\u001b[0m\n\u001b[1;32m      1\u001b[0m \u001b[0mnolist\u001b[0m \u001b[0;34m=\u001b[0m \u001b[0;34m[\u001b[0m\u001b[0;34m]\u001b[0m\u001b[0;34m\u001b[0m\u001b[0;34m\u001b[0m\u001b[0m\n\u001b[0;32m----> 2\u001b[0;31m \u001b[0mmultiply_matrices\u001b[0m\u001b[0;34m(\u001b[0m\u001b[0mnolist\u001b[0m\u001b[0;34m)\u001b[0m\u001b[0;34m\u001b[0m\u001b[0;34m\u001b[0m\u001b[0m\n\u001b[0m",
            "\u001b[0;32m<ipython-input-117-ba365ed7cefb>\u001b[0m in \u001b[0;36mmultiply_matrices\u001b[0;34m(matrices)\u001b[0m\n\u001b[1;32m      2\u001b[0m     \u001b[0;32mif\u001b[0m \u001b[0;32mnot\u001b[0m \u001b[0mmatrices\u001b[0m\u001b[0;34m:\u001b[0m\u001b[0;34m\u001b[0m\u001b[0;34m\u001b[0m\u001b[0m\n\u001b[1;32m      3\u001b[0m         \u001b[0mprint\u001b[0m\u001b[0;34m(\u001b[0m\u001b[0;34m\"ERROR: List is empty\"\u001b[0m\u001b[0;34m)\u001b[0m\u001b[0;34m\u001b[0m\u001b[0;34m\u001b[0m\u001b[0m\n\u001b[0;32m----> 4\u001b[0;31m         \u001b[0;32mraise\u001b[0m \u001b[0mEmptyList\u001b[0m\u001b[0;34m\u001b[0m\u001b[0;34m\u001b[0m\u001b[0m\n\u001b[0m\u001b[1;32m      5\u001b[0m     \u001b[0mflag\u001b[0m \u001b[0;34m=\u001b[0m \u001b[0;36m1\u001b[0m\u001b[0;34m\u001b[0m\u001b[0;34m\u001b[0m\u001b[0m\n\u001b[1;32m      6\u001b[0m     \u001b[0;32mfor\u001b[0m \u001b[0mmatrix\u001b[0m \u001b[0;32min\u001b[0m \u001b[0mmatrices\u001b[0m\u001b[0;34m:\u001b[0m\u001b[0;34m\u001b[0m\u001b[0;34m\u001b[0m\u001b[0m\n",
            "\u001b[0;31mEmptyList\u001b[0m: "
          ]
        }
      ]
    }
  ]
}