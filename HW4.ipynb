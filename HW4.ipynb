{
  "nbformat": 4,
  "nbformat_minor": 0,
  "metadata": {
    "colab": {
      "name": "HW4.ipynb",
      "provenance": [],
      "collapsed_sections": [
        "Dxgpp0Q4mMYC",
        "dmBED370mRFQ"
      ],
      "include_colab_link": true
    },
    "kernelspec": {
      "name": "python3",
      "display_name": "Python 3"
    },
    "accelerator": "GPU"
  },
  "cells": [
    {
      "cell_type": "markdown",
      "metadata": {
        "id": "view-in-github",
        "colab_type": "text"
      },
      "source": [
        "<a href=\"https://colab.research.google.com/github/MauriceLaf/CAP4630/blob/master/HW4.ipynb\" target=\"_parent\"><img src=\"https://colab.research.google.com/assets/colab-badge.svg\" alt=\"Open In Colab\"/></a>"
      ]
    },
    {
      "cell_type": "markdown",
      "metadata": {
        "id": "0WM39Lw0ljBi",
        "colab_type": "text"
      },
      "source": [
        "## Number 1"
      ]
    },
    {
      "cell_type": "markdown",
      "metadata": {
        "id": "1aFr4rrolmtf",
        "colab_type": "text"
      },
      "source": [
        "###Define Function (s)\n",
        "I defined an extra function since I initially misunderstood the test cases\n",
        "\n",
        "SOURCE: https://stackoverflow.com/questions/54962004/implement-max-mean-poolingwith-stride-with-numpy"
      ]
    },
    {
      "cell_type": "code",
      "metadata": {
        "id": "vAPUhStO0GmM",
        "colab_type": "code",
        "colab": {}
      },
      "source": [
        "import numpy as np\n",
        "\n",
        "class CustomError(Exception):\n",
        "  pass\n",
        "\n",
        "##Essentially the same as conv2d but I made it to read from a list of arrays before I looked at the test cases\n",
        "def conv2dList(input_mat, kernel_mat):\n",
        "  mList = []\n",
        "  for i in range(len(input_mat)):\n",
        "    inp = input_mat[i]\n",
        "    kern = kernel_mat[i]\n",
        "\n",
        "    filter_shape = tuple(np.subtract(inp.shape, kern.shape) + 1)\n",
        "    strides = inp.strides + inp.strides\n",
        "    \n",
        "    if (filter_shape[0] < 0 or filter_shape[1] < 0):\n",
        "      print(\"[]\")\n",
        "      mList.append([])\n",
        "      continue\n",
        "\n",
        "    sub_matrices = np.lib.stride_tricks.as_strided(inp, kern.shape + filter_shape, strides)\n",
        "\n",
        "    m = np.einsum('ij,ijkl->kl', kern ,sub_matrices)\n",
        "    mList.append(m)\n",
        "    print(m)\n",
        "  return mList\n",
        "\n",
        "\n",
        "def conv2d(input_mat, kernel_mat):\n",
        "  inp = input_mat\n",
        "  kern = kernel_mat\n",
        "\n",
        "  if input_mat.shape[0] != input_mat.shape[1] or kernel_mat.shape[0] != kernel_mat.shape[1]:\n",
        "    raise CustomError(\"Both Matrices Must Be Square Matrices\")\n",
        "\n",
        "  filter_shape = tuple(np.subtract(inp.shape, kern.shape) + 1)\n",
        "  strides = inp.strides + inp.strides\n",
        "    \n",
        "  if (filter_shape[0] < 0 or filter_shape[1] < 0):\n",
        "    print(\"[]\")\n",
        "    return []\n",
        "\n",
        "  sub_matrices = np.lib.stride_tricks.as_strided(inp, kern.shape + filter_shape, strides)\n",
        "\n",
        "  m = np.einsum('ij,ijkl->kl', kern ,sub_matrices)\n",
        "  print(m)\n",
        "  return m\n"
      ],
      "execution_count": 0,
      "outputs": []
    },
    {
      "cell_type": "markdown",
      "metadata": {
        "id": "iBJEzL_kl0v6",
        "colab_type": "text"
      },
      "source": [
        "###Create Test Case Arrays\n"
      ]
    },
    {
      "cell_type": "code",
      "metadata": {
        "id": "25B86cda1dDm",
        "colab_type": "code",
        "colab": {}
      },
      "source": [
        "input_mat = []\n",
        "kernel_mat = []\n",
        "expected_mat = []\n",
        "\n",
        "##Test Case 1##\n",
        "input_mat.append(np.array([[1, 2, 1, 2],\n",
        "                           [2, 1, 2, 1],\n",
        "                           [1, 2, 1, 2],\n",
        "                           [2, 1, 2, 1]]))\n",
        "\n",
        "kernel_mat.append(np.array([[1, 0],\n",
        "                            [0, 1]]))\n",
        "\n",
        "expected_mat.append(np.array([[2, 4, 2],\n",
        "                              [4, 2, 4],\n",
        "                              [2, 4, 2]]))\n",
        "\n",
        "##Test Case 2##\n",
        "input_mat.append(np.array([[1, 0, 0, 0],\n",
        "                           [0, 1, 0, 0],\n",
        "                           [0, 0, 1, 0],\n",
        "                           [0, 0, 0, 1]]))\n",
        "\n",
        "kernel_mat.append(np.array([[1, 0], \n",
        "                            [0, 1]]))\n",
        "\n",
        "expected_mat.append(np.array([[2, 0, 0], \n",
        "                              [0, 2, 0], \n",
        "                              [0, 0, 2]]))\n",
        "\n",
        "\n",
        "##Test Case 3##\n",
        "input_mat.append(np.array([[1, 0, 0, 0],\n",
        "                           [0, 1, 0, 0],\n",
        "                           [0, 0, 1, 0],\n",
        "                           [0, 0, 0, 1]]))\n",
        "\n",
        "kernel_mat.append(np.array([[1, -1],\n",
        "                            [-1, 0]]))\n",
        "\n",
        "expected_mat.append(np.array([[ 1, -1,  0], \n",
        "                              [-1,  1, -1],\n",
        "                              [ 0, -1,  1]]))\n",
        "\n",
        "##Test Case 4##\n",
        "input_mat.append(np.array([[1, 0, 0, 0],\n",
        "                           [0, 1, 0, 0],\n",
        "                           [0, 0, 1, 0],\n",
        "                           [0, 0, 0, 1]]))\n",
        "\n",
        "kernel_mat.append(np.array([[1, 0, 0, 0],\n",
        "                            [0, 1, 0, 0],\n",
        "                            [0, 0, 1, 0],\n",
        "                            [0, 0, 0, 1]]))\n",
        "\n",
        "expected_mat.append(np.array([[4]]))\n",
        "\n",
        "##Test Case 5##\n",
        "input_mat.append(np.array([[1, -1],\n",
        "                           [-1, 0]]))\n",
        "\n",
        "kernel_mat.append(np.array([[1, 0, 0, 0],\n",
        "                            [0, 1, 0, 0],\n",
        "                            [0, 0, 1, 0],\n",
        "                            [0, 0, 0, 1]]))\n",
        "\n",
        "expected_mat.append([])"
      ],
      "execution_count": 0,
      "outputs": []
    },
    {
      "cell_type": "markdown",
      "metadata": {
        "id": "z5wieEDol5MD",
        "colab_type": "text"
      },
      "source": [
        "### #1 Test Cases"
      ]
    },
    {
      "cell_type": "code",
      "metadata": {
        "id": "NArlfsgN814E",
        "colab_type": "code",
        "outputId": "4adb570c-8f69-4b07-e076-0a9335b729ad",
        "colab": {
          "base_uri": "https://localhost:8080/",
          "height": 599
        }
      },
      "source": [
        "for i in range(len(input_mat)):\n",
        "  # uncomment line for student code testing\n",
        "  output_mat = conv2d(input_mat[i], kernel_mat[i])\n",
        "\n",
        "  print(output_mat)\n",
        "  if np.array_equal(output_mat, expected_mat[i]):\n",
        "    print(\"Correct output!\\n\")\n",
        "  else:\n",
        "    print(\"Incorrect output!\\n\")"
      ],
      "execution_count": 4,
      "outputs": [
        {
          "output_type": "stream",
          "text": [
            "[[2 4 2]\n",
            " [4 2 4]\n",
            " [2 4 2]]\n",
            "[[2 4 2]\n",
            " [4 2 4]\n",
            " [2 4 2]]\n",
            "Correct output!\n",
            "\n",
            "[[2 0 0]\n",
            " [0 2 0]\n",
            " [0 0 2]]\n",
            "[[2 0 0]\n",
            " [0 2 0]\n",
            " [0 0 2]]\n",
            "Correct output!\n",
            "\n",
            "[[ 1 -1  0]\n",
            " [-1  1 -1]\n",
            " [ 0 -1  1]]\n",
            "[[ 1 -1  0]\n",
            " [-1  1 -1]\n",
            " [ 0 -1  1]]\n",
            "Correct output!\n",
            "\n",
            "[[4]]\n",
            "[[4]]\n",
            "Correct output!\n",
            "\n",
            "[]\n",
            "[]\n",
            "Correct output!\n",
            "\n"
          ],
          "name": "stdout"
        }
      ]
    },
    {
      "cell_type": "markdown",
      "metadata": {
        "id": "9KQIjgj1l8i7",
        "colab_type": "text"
      },
      "source": [
        "##Number 2"
      ]
    },
    {
      "cell_type": "markdown",
      "metadata": {
        "id": "hnKUTc-4l_7c",
        "colab_type": "text"
      },
      "source": [
        "###Define Function"
      ]
    },
    {
      "cell_type": "markdown",
      "metadata": {
        "id": "ilQWQeuJn72_",
        "colab_type": "text"
      },
      "source": [
        "SOURCE: https://stackoverflow.com/questions/54962004/implement-max-mean-poolingwith-stride-with-numpy"
      ]
    },
    {
      "cell_type": "code",
      "metadata": {
        "id": "y173Bg7r99_P",
        "colab_type": "code",
        "colab": {}
      },
      "source": [
        "def maxpooling2d(input_mat, s):\n",
        "  mat = input_mat\n",
        "  \n",
        "  if (mat.shape[0] != mat.shape[1]):\n",
        "    raise CustomError(\"Matrix Must Be A Square Matrix\")\n",
        "  ##Round Up From Division\n",
        "  shape0 = (mat.shape[0] - s)//2 + 1\n",
        "  shape1 = (mat.shape[1] - s)//2 + 1\n",
        "\n",
        "  output_shape = (shape0, shape1)\n",
        "\n",
        "  s_size = (s, s)\n",
        "  shape = output_shape + s_size\n",
        "  strides = (2*mat.strides[0], 2*mat.strides[1]) + mat.strides\n",
        "  res_mat = np.lib.stride_tricks.as_strided(mat, shape = shape, strides = strides)\n",
        "  res_mat = res_mat.reshape(-1, *s_size)\n",
        "  print(res_mat.max(axis=(1,2)).reshape(output_shape))\n",
        "  return res_mat.max(axis=(1,2)).reshape(output_shape)"
      ],
      "execution_count": 0,
      "outputs": []
    },
    {
      "cell_type": "markdown",
      "metadata": {
        "id": "Dxgpp0Q4mMYC",
        "colab_type": "text"
      },
      "source": [
        "###Define Test Cases"
      ]
    },
    {
      "cell_type": "code",
      "metadata": {
        "id": "DxZMtmso-N9I",
        "colab_type": "code",
        "colab": {}
      },
      "source": [
        "import skimage.measure\n",
        "\n",
        "input_mat = []\n",
        "expected_mat = []\n",
        "s = []\n",
        "input_mat.append(np.array([[1, 2, 1, 2],\n",
        "                      [2, 4, 2, 1],\n",
        "                      [1, 2, 4, 2],\n",
        "                      [2, 1, 2, 1]]))\n",
        "s.append(2)\n",
        "\n",
        "expected_mat.append(np.array([[4, 2],\n",
        "                                [2, 4]]))\n",
        "\n",
        "input_mat.append(np.array([[1, 2, 1, 2, 4, 5],\n",
        "                      [2, 4, 2, 1, 0, 3],\n",
        "                      [1, 2, 4, 2, 4, 5],\n",
        "                      [2, 1, 2, 1, 2, 1],\n",
        "                      [1, 1, 2, 3, 1, 2],\n",
        "                      [1, 1, 2, 3, 1, 2]]))\n",
        "s.append(2)\n",
        "\n",
        "expected_mat.append([[4, 2, 5],\n",
        " [2, 4, 5],\n",
        " [1, 3, 2]])\n"
      ],
      "execution_count": 0,
      "outputs": []
    },
    {
      "cell_type": "markdown",
      "metadata": {
        "id": "dmBED370mRFQ",
        "colab_type": "text"
      },
      "source": [
        "###Run Test Cases"
      ]
    },
    {
      "cell_type": "code",
      "metadata": {
        "id": "didxAVrLmQS5",
        "colab_type": "code",
        "colab": {
          "base_uri": "https://localhost:8080/",
          "height": 235
        },
        "outputId": "027b2d2e-3cab-486c-cfd2-f10461fb0f3d"
      },
      "source": [
        "for i in range(len(input_mat)):\n",
        "  # uncomment top line and comment second line to test code\n",
        "  output_mat = maxpooling2d(input_mat[i], s[i])\n",
        "  #output_mat = skimage.measure.block_reduce(input_mat[i], (s[i],s[i]), np.max)\n",
        "\n",
        "  print(output_mat)\n",
        "\n",
        "  if np.array_equal(output_mat, expected_mat[i]):\n",
        "    print(\"Correct output!\")\n",
        "  else:\n",
        "    print(\"Incorrect output!\")"
      ],
      "execution_count": 19,
      "outputs": [
        {
          "output_type": "stream",
          "text": [
            "[[4 2]\n",
            " [2 4]]\n",
            "[[4 2]\n",
            " [2 4]]\n",
            "Correct output!\n",
            "[[4 2 5]\n",
            " [2 4 5]\n",
            " [1 3 2]]\n",
            "[[4 2 5]\n",
            " [2 4 5]\n",
            " [1 3 2]]\n",
            "Correct output!\n"
          ],
          "name": "stdout"
        }
      ]
    },
    {
      "cell_type": "code",
      "metadata": {
        "id": "Hs2huMIyXNTi",
        "colab_type": "code",
        "colab": {}
      },
      "source": [
        ""
      ],
      "execution_count": 0,
      "outputs": []
    }
  ]
}