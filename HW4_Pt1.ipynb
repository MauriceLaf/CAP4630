{
  "nbformat": 4,
  "nbformat_minor": 0,
  "metadata": {
    "colab": {
      "name": "HW4_Pt1.ipynb",
      "provenance": [],
      "collapsed_sections": [],
      "include_colab_link": true
    },
    "kernelspec": {
      "name": "python3",
      "display_name": "Python 3"
    },
    "accelerator": "GPU"
  },
  "cells": [
    {
      "cell_type": "markdown",
      "metadata": {
        "id": "view-in-github",
        "colab_type": "text"
      },
      "source": [
        "<a href=\"https://colab.research.google.com/github/MauriceLaf/CAP4630/blob/master/HW4_Pt1.ipynb\" target=\"_parent\"><img src=\"https://colab.research.google.com/assets/colab-badge.svg\" alt=\"Open In Colab\"/></a>"
      ]
    },
    {
      "cell_type": "markdown",
      "metadata": {
        "id": "CktMKUvYleVa",
        "colab_type": "text"
      },
      "source": [
        "#HW 4 #3 Pt 1\n"
      ]
    },
    {
      "cell_type": "markdown",
      "metadata": {
        "id": "WdxkEH9lYR_r",
        "colab_type": "text"
      },
      "source": [
        "**To aid with grading, I have made new comments that I have added about data/decisions for classifiers in bold**\n",
        "\n"
      ]
    },
    {
      "cell_type": "markdown",
      "metadata": {
        "id": "BqIG8QHMLNOn",
        "colab_type": "text"
      },
      "source": [
        "## Download the data"
      ]
    },
    {
      "cell_type": "markdown",
      "metadata": {
        "id": "t3I1jd7cKV6_",
        "colab_type": "text"
      },
      "source": [
        "Download the example data, a zip. of 2,000 JPG pictures of cats and dogs and extract it locally in ```/tmp```.\n",
        "\n"
      ]
    },
    {
      "cell_type": "code",
      "metadata": {
        "id": "JWjprHEXJ5Qi",
        "colab_type": "code",
        "outputId": "f42f6639-99e8-4242-82a4-12126dfed82f",
        "colab": {
          "base_uri": "https://localhost:8080/",
          "height": 237
        }
      },
      "source": [
        "!wget --no-check-certificate \\\n",
        "    https://storage.googleapis.com/mledu-datasets/cats_and_dogs_filtered.zip \\\n",
        "    -O /tmp/cats_and_dogs_filtered.zip"
      ],
      "execution_count": 0,
      "outputs": [
        {
          "output_type": "stream",
          "text": [
            "--2020-04-21 20:00:18--  https://storage.googleapis.com/mledu-datasets/cats_and_dogs_filtered.zip\n",
            "Resolving storage.googleapis.com (storage.googleapis.com)... 108.177.119.128, 2a00:1450:4013:c00::80\n",
            "Connecting to storage.googleapis.com (storage.googleapis.com)|108.177.119.128|:443... connected.\n",
            "HTTP request sent, awaiting response... 200 OK\n",
            "Length: 68606236 (65M) [application/zip]\n",
            "Saving to: ‘/tmp/cats_and_dogs_filtered.zip’\n",
            "\n",
            "/tmp/cats_and_dogs_ 100%[===================>]  65.43M  82.6MB/s    in 0.8s    \n",
            "\n",
            "2020-04-21 20:00:19 (82.6 MB/s) - ‘/tmp/cats_and_dogs_filtered.zip’ saved [68606236/68606236]\n",
            "\n"
          ],
          "name": "stdout"
        }
      ]
    },
    {
      "cell_type": "code",
      "metadata": {
        "id": "WvoHtdA-K6Rw",
        "colab_type": "code",
        "colab": {}
      },
      "source": [
        "import os\n",
        "import zipfile\n",
        "\n",
        "local_zip = '/tmp/cats_and_dogs_filtered.zip'\n",
        "zip_ref = zipfile.ZipFile(local_zip, 'r')\n",
        "zip_ref.extractall('/tmp')\n",
        "zip_ref.close()"
      ],
      "execution_count": 0,
      "outputs": []
    },
    {
      "cell_type": "markdown",
      "metadata": {
        "id": "shZiOBnJMyy_",
        "colab_type": "text"
      },
      "source": [
        "Note that the data provided by Google does not have a test set."
      ]
    },
    {
      "cell_type": "code",
      "metadata": {
        "id": "dL8ikM89LlsH",
        "colab_type": "code",
        "colab": {}
      },
      "source": [
        "base_dir = '/tmp/cats_and_dogs_filtered'\n",
        "train_dir = os.path.join(base_dir, 'train')\n",
        "validation_dir = os.path.join(base_dir, 'validation')\n",
        "\n",
        "# Directory with our training cat pictures\n",
        "train_cats_dir = os.path.join(train_dir, 'cats')\n",
        "\n",
        "# Directory with our training dog pictures\n",
        "train_dogs_dir = os.path.join(train_dir, 'dogs')\n",
        "\n",
        "# Directory with our validation cat pictures\n",
        "validation_cats_dir = os.path.join(validation_dir, 'cats')\n",
        "\n",
        "# Directory with our validation dog pictures\n",
        "validation_dogs_dir = os.path.join(validation_dir, 'dogs')"
      ],
      "execution_count": 0,
      "outputs": []
    },
    {
      "cell_type": "markdown",
      "metadata": {
        "id": "inyP8bcdXnn-",
        "colab_type": "text"
      },
      "source": [
        "## Build network with MobileNetV2 convolution base and add classifier layers"
      ]
    },
    {
      "cell_type": "markdown",
      "metadata": {
        "id": "legOxO2DYbo2",
        "colab_type": "text"
      },
      "source": [
        "**I chose MobileNetV2 because of a source I found that both used MobileNetV2 and provided a good explanation of the uses of convolutionial bases as well as fine-tuning pre-trained models.** SOURCE: https://www.tensorflow.org/tutorials/images/transfer_learning "
      ]
    },
    {
      "cell_type": "markdown",
      "metadata": {
        "id": "kQ48W5T9rHWu",
        "colab_type": "text"
      },
      "source": [
        "### Load the convolutional base"
      ]
    },
    {
      "cell_type": "code",
      "metadata": {
        "id": "Y0FgtANCXm_H",
        "colab_type": "code",
        "outputId": "b518a978-84d0-4aa7-85ef-39ec33d658b1",
        "colab": {
          "base_uri": "https://localhost:8080/",
          "height": 74
        }
      },
      "source": [
        "from keras.applications import MobileNetV2\n",
        "\n",
        "conv_base = MobileNetV2(\n",
        "    weights='imagenet', \n",
        "    include_top=False, \n",
        "    input_shape=(150, 150, 3))"
      ],
      "execution_count": 0,
      "outputs": [
        {
          "output_type": "stream",
          "text": [
            "/usr/local/lib/python3.6/dist-packages/keras_applications/mobilenet_v2.py:294: UserWarning: `input_shape` is undefined or non-square, or `rows` is not in [96, 128, 160, 192, 224]. Weights for input shape (224, 224) will be loaded as the default.\n",
            "  warnings.warn('`input_shape` is undefined or non-square, '\n"
          ],
          "name": "stderr"
        }
      ]
    },
    {
      "cell_type": "markdown",
      "metadata": {
        "id": "D6OBHOO9q1ou",
        "colab_type": "text"
      },
      "source": [
        "### Freeze the convolutional base"
      ]
    },
    {
      "cell_type": "code",
      "metadata": {
        "id": "UleRo4Dpq6Ld",
        "colab_type": "code",
        "colab": {}
      },
      "source": [
        "conv_base.trainable = False"
      ],
      "execution_count": 0,
      "outputs": []
    },
    {
      "cell_type": "markdown",
      "metadata": {
        "id": "Qfx6PqhPrb7Q",
        "colab_type": "text"
      },
      "source": [
        "### Concatenate the convolutional base and densely connected classifier layers"
      ]
    },
    {
      "cell_type": "markdown",
      "metadata": {
        "id": "ZyqKs0bhWDL0",
        "colab_type": "text"
      },
      "source": [
        "**First of the two choices I went through was the already implemented densely connected classifier layers that used a flatten and a large dense layer as the classifiers. The densely connected classifier layers have a much better initial result than the GlobalAveragePooling2D classifier. This will be visible upon the initial training without the training of the conv_base.**"
      ]
    },
    {
      "cell_type": "code",
      "metadata": {
        "id": "qUpmocDAO3xm",
        "colab_type": "code",
        "colab": {}
      },
      "source": [
        "from keras import layers\n",
        "from keras import models\n",
        "from keras import optimizers\n",
        "\n",
        "model = models.Sequential()\n",
        "model.add(conv_base)\n",
        "model.add(layers.Flatten())\n",
        "model.add(layers.Dense(256, activation='relu'))\n",
        "model.add(layers.Dense(1, activation='sigmoid'))"
      ],
      "execution_count": 0,
      "outputs": []
    },
    {
      "cell_type": "code",
      "metadata": {
        "id": "Fh6gZSeAjF7c",
        "colab_type": "code",
        "outputId": "23a52ff2-5119-48cf-f771-7e4964896ab1",
        "colab": {
          "base_uri": "https://localhost:8080/",
          "height": 308
        }
      },
      "source": [
        "model.summary()"
      ],
      "execution_count": 0,
      "outputs": [
        {
          "output_type": "stream",
          "text": [
            "Model: \"sequential_2\"\n",
            "_________________________________________________________________\n",
            "Layer (type)                 Output Shape              Param #   \n",
            "=================================================================\n",
            "mobilenetv2_1.00_224 (Model) (None, 5, 5, 1280)        2257984   \n",
            "_________________________________________________________________\n",
            "flatten_2 (Flatten)          (None, 32000)             0         \n",
            "_________________________________________________________________\n",
            "dense_3 (Dense)              (None, 256)               8192256   \n",
            "_________________________________________________________________\n",
            "dense_4 (Dense)              (None, 1)                 257       \n",
            "=================================================================\n",
            "Total params: 10,450,497\n",
            "Trainable params: 8,192,513\n",
            "Non-trainable params: 2,257,984\n",
            "_________________________________________________________________\n"
          ],
          "name": "stdout"
        }
      ]
    },
    {
      "cell_type": "markdown",
      "metadata": {
        "id": "eZjBiddhi5Qj",
        "colab_type": "text"
      },
      "source": [
        "## Train the model end to end with frozen convolutional base"
      ]
    },
    {
      "cell_type": "code",
      "metadata": {
        "id": "tfAQlC2Oi41L",
        "colab_type": "code",
        "outputId": "17d800f4-5ce6-4e92-c25e-96031542ae80",
        "colab": {
          "base_uri": "https://localhost:8080/",
          "height": 1000
        }
      },
      "source": [
        "from keras.preprocessing.image import ImageDataGenerator\n",
        "from keras import optimizers\n",
        "\n",
        "# data augmentation\n",
        "\n",
        "train_datagen = ImageDataGenerator(\n",
        "    rescale=1./255, \n",
        "    rotation_range=40,\n",
        "    width_shift_range=0.2,\n",
        "    height_shift_range=0.2,\n",
        "    shear_range=0.2,\n",
        "    zoom_range=0.2,\n",
        "    horizontal_flip=True,\n",
        "    fill_mode='nearest'\n",
        ")\n",
        "\n",
        "train_generator = train_datagen.flow_from_directory(\n",
        "    train_dir,\n",
        "    target_size=(150, 150),\n",
        "    batch_size=20,\n",
        "    class_mode='binary')\n",
        "\n",
        "validation_datagen = ImageDataGenerator(rescale=1./255)\n",
        "\n",
        "validation_generator = validation_datagen.flow_from_directory(\n",
        "    validation_dir,\n",
        "    target_size=(150, 150),\n",
        "    batch_size=20,\n",
        "    class_mode='binary')\n",
        "\n",
        "# compile model\n",
        "\n",
        "model.compile(\n",
        "    loss='binary_crossentropy', \n",
        "    optimizer=optimizers.RMSprop(lr=2e-5), \n",
        "    metrics=['acc'])\n",
        "\n",
        "# train\n",
        "\n",
        "history = model.fit_generator(\n",
        "    train_generator,\n",
        "    steps_per_epoch=100,\n",
        "    epochs=30,\n",
        "    validation_data=validation_generator,\n",
        "    validation_steps=50\n",
        ")"
      ],
      "execution_count": 0,
      "outputs": [
        {
          "output_type": "stream",
          "text": [
            "Found 2000 images belonging to 2 classes.\n",
            "Found 1000 images belonging to 2 classes.\n",
            "Epoch 1/30\n",
            "100/100 [==============================] - 19s 193ms/step - loss: 0.4148 - acc: 0.8095 - val_loss: 0.0503 - val_acc: 0.9430\n",
            "Epoch 2/30\n",
            "100/100 [==============================] - 16s 164ms/step - loss: 0.3065 - acc: 0.8665 - val_loss: 0.2682 - val_acc: 0.9080\n",
            "Epoch 3/30\n",
            "100/100 [==============================] - 16s 164ms/step - loss: 0.2962 - acc: 0.8700 - val_loss: 0.1853 - val_acc: 0.9020\n",
            "Epoch 4/30\n",
            "100/100 [==============================] - 16s 164ms/step - loss: 0.3050 - acc: 0.8725 - val_loss: 0.2642 - val_acc: 0.9020\n",
            "Epoch 5/30\n",
            "100/100 [==============================] - 17s 165ms/step - loss: 0.2784 - acc: 0.8845 - val_loss: 0.0209 - val_acc: 0.8510\n",
            "Epoch 6/30\n",
            "100/100 [==============================] - 17s 165ms/step - loss: 0.2525 - acc: 0.8925 - val_loss: 0.0077 - val_acc: 0.8970\n",
            "Epoch 7/30\n",
            "100/100 [==============================] - 16s 164ms/step - loss: 0.2572 - acc: 0.8920 - val_loss: 0.1830 - val_acc: 0.9270\n",
            "Epoch 8/30\n",
            "100/100 [==============================] - 16s 164ms/step - loss: 0.2416 - acc: 0.8945 - val_loss: 0.1124 - val_acc: 0.9070\n",
            "Epoch 9/30\n",
            "100/100 [==============================] - 16s 164ms/step - loss: 0.2408 - acc: 0.8945 - val_loss: 0.0087 - val_acc: 0.9190\n",
            "Epoch 10/30\n",
            "100/100 [==============================] - 17s 165ms/step - loss: 0.2344 - acc: 0.9085 - val_loss: 0.0762 - val_acc: 0.9370\n",
            "Epoch 11/30\n",
            "100/100 [==============================] - 16s 163ms/step - loss: 0.2418 - acc: 0.9040 - val_loss: 0.0671 - val_acc: 0.9050\n",
            "Epoch 12/30\n",
            "100/100 [==============================] - 16s 163ms/step - loss: 0.2229 - acc: 0.9115 - val_loss: 0.7824 - val_acc: 0.9370\n",
            "Epoch 13/30\n",
            "100/100 [==============================] - 16s 163ms/step - loss: 0.2314 - acc: 0.9035 - val_loss: 0.2544 - val_acc: 0.9280\n",
            "Epoch 14/30\n",
            "100/100 [==============================] - 16s 164ms/step - loss: 0.2037 - acc: 0.9115 - val_loss: 0.7351 - val_acc: 0.9360\n",
            "Epoch 15/30\n",
            "100/100 [==============================] - 16s 164ms/step - loss: 0.2089 - acc: 0.9100 - val_loss: 0.0057 - val_acc: 0.8990\n",
            "Epoch 16/30\n",
            "100/100 [==============================] - 16s 163ms/step - loss: 0.2118 - acc: 0.9160 - val_loss: 0.3817 - val_acc: 0.9220\n",
            "Epoch 17/30\n",
            "100/100 [==============================] - 16s 162ms/step - loss: 0.2145 - acc: 0.9135 - val_loss: 0.0174 - val_acc: 0.8650\n",
            "Epoch 18/30\n",
            "100/100 [==============================] - 16s 164ms/step - loss: 0.2134 - acc: 0.9180 - val_loss: 0.2774 - val_acc: 0.9170\n",
            "Epoch 19/30\n",
            "100/100 [==============================] - 16s 164ms/step - loss: 0.1879 - acc: 0.9235 - val_loss: 0.3964 - val_acc: 0.9240\n",
            "Epoch 20/30\n",
            "100/100 [==============================] - 17s 165ms/step - loss: 0.1996 - acc: 0.9195 - val_loss: 1.2884 - val_acc: 0.9210\n",
            "Epoch 21/30\n",
            "100/100 [==============================] - 16s 164ms/step - loss: 0.1855 - acc: 0.9200 - val_loss: 1.1184 - val_acc: 0.9160\n",
            "Epoch 22/30\n",
            "100/100 [==============================] - 16s 163ms/step - loss: 0.2042 - acc: 0.9130 - val_loss: 0.8828 - val_acc: 0.9060\n",
            "Epoch 23/30\n",
            "100/100 [==============================] - 16s 163ms/step - loss: 0.2111 - acc: 0.9165 - val_loss: 1.9207 - val_acc: 0.9050\n",
            "Epoch 24/30\n",
            "100/100 [==============================] - 16s 164ms/step - loss: 0.1977 - acc: 0.9240 - val_loss: 0.0041 - val_acc: 0.9190\n",
            "Epoch 25/30\n",
            "100/100 [==============================] - 17s 166ms/step - loss: 0.1808 - acc: 0.9290 - val_loss: 1.6558 - val_acc: 0.9120\n",
            "Epoch 26/30\n",
            "100/100 [==============================] - 16s 163ms/step - loss: 0.1912 - acc: 0.9260 - val_loss: 0.7581 - val_acc: 0.8960\n",
            "Epoch 27/30\n",
            "100/100 [==============================] - 16s 163ms/step - loss: 0.2008 - acc: 0.9150 - val_loss: 0.0664 - val_acc: 0.9040\n",
            "Epoch 28/30\n",
            "100/100 [==============================] - 16s 163ms/step - loss: 0.1680 - acc: 0.9270 - val_loss: 0.6783 - val_acc: 0.8600\n",
            "Epoch 29/30\n",
            "100/100 [==============================] - 16s 163ms/step - loss: 0.1871 - acc: 0.9260 - val_loss: 0.3968 - val_acc: 0.9090\n",
            "Epoch 30/30\n",
            "100/100 [==============================] - 16s 163ms/step - loss: 0.1838 - acc: 0.9275 - val_loss: 0.4440 - val_acc: 0.9020\n"
          ],
          "name": "stdout"
        }
      ]
    },
    {
      "cell_type": "markdown",
      "metadata": {
        "id": "WJxiN8PdXD1K",
        "colab_type": "text"
      },
      "source": [
        "**From these results it is clear that the loss and accuracy of the dense connected layer are both much better than that of the GlobalAveragePooling2D layer.\n",
        ".1838 compared to ~.22\n",
        "92.75% compared to 82.35%**"
      ]
    },
    {
      "cell_type": "markdown",
      "metadata": {
        "id": "xqRc_vHKc92U",
        "colab_type": "text"
      },
      "source": [
        "## Display curves of loss and accuracy during training"
      ]
    },
    {
      "cell_type": "code",
      "metadata": {
        "id": "ybWwdzz9bwuQ",
        "colab_type": "code",
        "outputId": "6c5f141c-b9a4-4431-a41e-81d28e498ba9",
        "colab": {
          "base_uri": "https://localhost:8080/",
          "height": 545
        }
      },
      "source": [
        "%matplotlib inline\n",
        "\n",
        "import matplotlib.pyplot as plt\n",
        "\n",
        "acc = history.history['acc']\n",
        "val_acc = history.history['val_acc']\n",
        "\n",
        "loss = history.history['loss']\n",
        "val_loss = history.history['val_loss']\n",
        "\n",
        "epochs = range(1, len(acc) + 1)\n",
        "\n",
        "# training and validation accuracy\n",
        "\n",
        "plt.plot(epochs, acc, 'bo', label='training acc')\n",
        "plt.plot(epochs, val_acc, 'b', label='validation acc')\n",
        "plt.title('training and validation accuracy')\n",
        "plt.legend()\n",
        "\n",
        "plt.figure()\n",
        "\n",
        "# training and validation loss\n",
        "\n",
        "plt.plot(epochs, loss, 'bo', label='training loss')\n",
        "plt.plot(epochs, val_loss, 'b', label='validation loss')\n",
        "plt.title('training and validation loss')\n",
        "plt.legend()\n",
        "\n",
        "plt.show()"
      ],
      "execution_count": 0,
      "outputs": [
        {
          "output_type": "display_data",
          "data": {
            "image/png": "[encoded data removed]",
            "text/plain": [
              "<Figure size 432x288 with 1 Axes>"
            ]
          },
          "metadata": {
            "tags": [],
            "needs_background": "light"
          }
        },
        {
          "output_type": "display_data",
          "data": {
            "image/png": "[encoded data removed]",
            "text/plain": [
              "<Figure size 432x288 with 1 Axes>"
            ]
          },
          "metadata": {
            "tags": [],
            "needs_background": "light"
          }
        }
      ]
    },
    {
      "cell_type": "markdown",
      "metadata": {
        "id": "etSEFlBYXibA",
        "colab_type": "text"
      },
      "source": [
        "**The loss and accuracy curves show an initially low and lowly decreasing loss as well as an initially high and slowly increasing accuracy, but there are signs of overfitting already with the validation jumps being quite intense**"
      ]
    },
    {
      "cell_type": "markdown",
      "metadata": {
        "id": "lOWsxpey8lN0",
        "colab_type": "text"
      },
      "source": [
        "## Fine-tuning"
      ]
    },
    {
      "cell_type": "markdown",
      "metadata": {
        "id": "XITZRMZAcqQp",
        "colab_type": "text"
      },
      "source": [
        "**For MobileNetV2, fine tuning the upper layers allows us to retrain the non-generalize image reading layers and the more specific layers to recognize cats and dogs. The lower a layer is, the more general it is, and the higher a layer is, the more specific it is.**\n",
        "\n",
        "**I selected the first 105 layers to fine tune**\n",
        "\n",
        "**Source: https://www.tensorflow.org/tutorials/images/transfer_learning**"
      ]
    },
    {
      "cell_type": "code",
      "metadata": {
        "id": "PwkVMx8N8qMw",
        "colab_type": "code",
        "outputId": "4712e4d3-7f76-43ed-f13d-2a3ee4a1bb36",
        "colab": {
          "base_uri": "https://localhost:8080/",
          "height": 35
        }
      },
      "source": [
        "conv_base.trainable = True\n",
        "\n",
        "print(\"Number of layers in the base model: \", len(conv_base.layers))\n",
        "\n",
        "# Fine-tune from this layer onwards\n",
        "fine_tune_at = 105\n",
        "\n",
        "# Freeze all layers below the 50th to the bottom layer\n",
        "for layer in conv_base.layers[:fine_tune_at]:\n",
        "  layer.trainable =  False"
      ],
      "execution_count": 0,
      "outputs": [
        {
          "output_type": "stream",
          "text": [
            "Number of layers in the base model:  155\n"
          ],
          "name": "stdout"
        }
      ]
    },
    {
      "cell_type": "code",
      "metadata": {
        "id": "DyN-J7rs9cvo",
        "colab_type": "code",
        "outputId": "29417df3-0c8d-4a04-85ef-27451394a4aa",
        "colab": {
          "base_uri": "https://localhost:8080/",
          "height": 1000
        }
      },
      "source": [
        "# compile model\n",
        "\n",
        "model.compile(\n",
        "    loss='binary_crossentropy',\n",
        "    #\n",
        "    # choose a smaller learning rate\n",
        "    #\n",
        "    optimizer=optimizers.RMSprop(lr=1e-5), \n",
        "    metrics=['acc'])\n",
        "\n",
        "# train\n",
        "\n",
        "history = model.fit_generator(\n",
        "    train_generator,\n",
        "    steps_per_epoch=100,\n",
        "    epochs=100,\n",
        "    validation_data=validation_generator,\n",
        "    validation_steps=50)"
      ],
      "execution_count": 0,
      "outputs": [
        {
          "output_type": "stream",
          "text": [
            "Epoch 1/100\n",
            "100/100 [==============================] - 24s 236ms/step - loss: 0.0452 - acc: 0.9835 - val_loss: 0.0964 - val_acc: 0.9540\n",
            "Epoch 2/100\n",
            "100/100 [==============================] - 17s 174ms/step - loss: 0.0484 - acc: 0.9820 - val_loss: 0.3413 - val_acc: 0.9520\n",
            "Epoch 3/100\n",
            "100/100 [==============================] - 17s 174ms/step - loss: 0.0287 - acc: 0.9870 - val_loss: 0.3105 - val_acc: 0.9520\n",
            "Epoch 4/100\n",
            "100/100 [==============================] - 17s 174ms/step - loss: 0.0517 - acc: 0.9825 - val_loss: 0.0102 - val_acc: 0.9460\n",
            "Epoch 5/100\n",
            "100/100 [==============================] - 17s 174ms/step - loss: 0.0348 - acc: 0.9875 - val_loss: 6.1747e-04 - val_acc: 0.9520\n",
            "Epoch 6/100\n",
            "100/100 [==============================] - 17s 175ms/step - loss: 0.0487 - acc: 0.9830 - val_loss: 0.1261 - val_acc: 0.9530\n",
            "Epoch 7/100\n",
            "100/100 [==============================] - 18s 176ms/step - loss: 0.0378 - acc: 0.9865 - val_loss: 0.0624 - val_acc: 0.9480\n",
            "Epoch 8/100\n",
            "100/100 [==============================] - 17s 174ms/step - loss: 0.0455 - acc: 0.9825 - val_loss: 0.0107 - val_acc: 0.9530\n",
            "Epoch 9/100\n",
            "100/100 [==============================] - 18s 175ms/step - loss: 0.0322 - acc: 0.9875 - val_loss: 0.0055 - val_acc: 0.9540\n",
            "Epoch 10/100\n",
            "100/100 [==============================] - 17s 174ms/step - loss: 0.0357 - acc: 0.9910 - val_loss: 0.4990 - val_acc: 0.9580\n",
            "Epoch 11/100\n",
            "100/100 [==============================] - 17s 174ms/step - loss: 0.0356 - acc: 0.9880 - val_loss: 2.0277e-04 - val_acc: 0.9480\n",
            "Epoch 12/100\n",
            "100/100 [==============================] - 17s 174ms/step - loss: 0.0416 - acc: 0.9835 - val_loss: 1.1669 - val_acc: 0.9520\n",
            "Epoch 13/100\n",
            "100/100 [==============================] - 17s 173ms/step - loss: 0.0382 - acc: 0.9865 - val_loss: 0.0415 - val_acc: 0.9520\n",
            "Epoch 14/100\n",
            "100/100 [==============================] - 17s 174ms/step - loss: 0.0387 - acc: 0.9865 - val_loss: 0.1528 - val_acc: 0.9510\n",
            "Epoch 15/100\n",
            "100/100 [==============================] - 18s 177ms/step - loss: 0.0331 - acc: 0.9915 - val_loss: 0.2478 - val_acc: 0.9490\n",
            "Epoch 16/100\n",
            "100/100 [==============================] - 18s 175ms/step - loss: 0.0306 - acc: 0.9920 - val_loss: 1.2962e-04 - val_acc: 0.9480\n",
            "Epoch 17/100\n",
            "100/100 [==============================] - 17s 173ms/step - loss: 0.0426 - acc: 0.9870 - val_loss: 0.1819 - val_acc: 0.9490\n",
            "Epoch 18/100\n",
            "100/100 [==============================] - 17s 174ms/step - loss: 0.0488 - acc: 0.9815 - val_loss: 0.2069 - val_acc: 0.9500\n",
            "Epoch 19/100\n",
            "100/100 [==============================] - 17s 174ms/step - loss: 0.0480 - acc: 0.9835 - val_loss: 0.0255 - val_acc: 0.9550\n",
            "Epoch 20/100\n",
            "100/100 [==============================] - 17s 173ms/step - loss: 0.0307 - acc: 0.9895 - val_loss: 0.0010 - val_acc: 0.9510\n",
            "Epoch 21/100\n",
            "100/100 [==============================] - 17s 174ms/step - loss: 0.0355 - acc: 0.9890 - val_loss: 0.2949 - val_acc: 0.9520\n",
            "Epoch 22/100\n",
            "100/100 [==============================] - 17s 174ms/step - loss: 0.0277 - acc: 0.9900 - val_loss: 0.1925 - val_acc: 0.9470\n",
            "Epoch 23/100\n",
            "100/100 [==============================] - 17s 174ms/step - loss: 0.0389 - acc: 0.9880 - val_loss: 0.4630 - val_acc: 0.9510\n",
            "Epoch 24/100\n",
            "100/100 [==============================] - 18s 176ms/step - loss: 0.0435 - acc: 0.9855 - val_loss: 0.2199 - val_acc: 0.9450\n",
            "Epoch 25/100\n",
            "100/100 [==============================] - 18s 176ms/step - loss: 0.0448 - acc: 0.9835 - val_loss: 7.7407e-06 - val_acc: 0.9450\n",
            "Epoch 26/100\n",
            "100/100 [==============================] - 17s 174ms/step - loss: 0.0253 - acc: 0.9895 - val_loss: 4.3061e-05 - val_acc: 0.9510\n",
            "Epoch 27/100\n",
            "100/100 [==============================] - 17s 175ms/step - loss: 0.0406 - acc: 0.9855 - val_loss: 0.4926 - val_acc: 0.9550\n",
            "Epoch 28/100\n",
            "100/100 [==============================] - 17s 174ms/step - loss: 0.0275 - acc: 0.9905 - val_loss: 0.5018 - val_acc: 0.9540\n",
            "Epoch 29/100\n",
            "100/100 [==============================] - 18s 175ms/step - loss: 0.0380 - acc: 0.9875 - val_loss: 0.3498 - val_acc: 0.9530\n",
            "Epoch 30/100\n",
            "100/100 [==============================] - 17s 173ms/step - loss: 0.0230 - acc: 0.9930 - val_loss: 0.0127 - val_acc: 0.9520\n",
            "Epoch 31/100\n",
            "100/100 [==============================] - 17s 173ms/step - loss: 0.0256 - acc: 0.9895 - val_loss: 0.5407 - val_acc: 0.9490\n",
            "Epoch 32/100\n",
            "100/100 [==============================] - 17s 174ms/step - loss: 0.0330 - acc: 0.9900 - val_loss: 0.0083 - val_acc: 0.9550\n",
            "Epoch 33/100\n",
            "100/100 [==============================] - 18s 175ms/step - loss: 0.0273 - acc: 0.9910 - val_loss: 0.6839 - val_acc: 0.9520\n",
            "Epoch 34/100\n",
            "100/100 [==============================] - 18s 175ms/step - loss: 0.0312 - acc: 0.9880 - val_loss: 2.2575e-04 - val_acc: 0.9520\n",
            "Epoch 35/100\n",
            "100/100 [==============================] - 17s 173ms/step - loss: 0.0350 - acc: 0.9870 - val_loss: 1.4194 - val_acc: 0.9560\n",
            "Epoch 36/100\n",
            "100/100 [==============================] - 17s 173ms/step - loss: 0.0251 - acc: 0.9895 - val_loss: 0.3983 - val_acc: 0.9570\n",
            "Epoch 37/100\n",
            "100/100 [==============================] - 17s 173ms/step - loss: 0.0215 - acc: 0.9925 - val_loss: 0.1535 - val_acc: 0.9450\n",
            "Epoch 38/100\n",
            "100/100 [==============================] - 17s 174ms/step - loss: 0.0328 - acc: 0.9910 - val_loss: 0.5801 - val_acc: 0.9490\n",
            "Epoch 39/100\n",
            "100/100 [==============================] - 17s 174ms/step - loss: 0.0299 - acc: 0.9920 - val_loss: 0.0116 - val_acc: 0.9540\n",
            "Epoch 40/100\n",
            "100/100 [==============================] - 17s 174ms/step - loss: 0.0197 - acc: 0.9930 - val_loss: 0.4800 - val_acc: 0.9530\n",
            "Epoch 41/100\n",
            "100/100 [==============================] - 17s 173ms/step - loss: 0.0239 - acc: 0.9925 - val_loss: 0.0638 - val_acc: 0.9530\n",
            "Epoch 42/100\n",
            "100/100 [==============================] - 17s 175ms/step - loss: 0.0424 - acc: 0.9870 - val_loss: 3.7544e-05 - val_acc: 0.9570\n",
            "Epoch 43/100\n",
            "100/100 [==============================] - 18s 176ms/step - loss: 0.0289 - acc: 0.9915 - val_loss: 0.0480 - val_acc: 0.9500\n",
            "Epoch 44/100\n",
            "100/100 [==============================] - 17s 174ms/step - loss: 0.0309 - acc: 0.9880 - val_loss: 1.9758e-06 - val_acc: 0.9480\n",
            "Epoch 45/100\n",
            "100/100 [==============================] - 17s 173ms/step - loss: 0.0178 - acc: 0.9925 - val_loss: 0.2759 - val_acc: 0.9560\n",
            "Epoch 46/100\n",
            "100/100 [==============================] - 17s 174ms/step - loss: 0.0332 - acc: 0.9900 - val_loss: 7.8799e-04 - val_acc: 0.9560\n",
            "Epoch 47/100\n",
            "100/100 [==============================] - 17s 174ms/step - loss: 0.0251 - acc: 0.9920 - val_loss: 0.1195 - val_acc: 0.9580\n",
            "Epoch 48/100\n",
            "100/100 [==============================] - 17s 173ms/step - loss: 0.0279 - acc: 0.9905 - val_loss: 0.0059 - val_acc: 0.9550\n",
            "Epoch 49/100\n",
            "100/100 [==============================] - 17s 174ms/step - loss: 0.0197 - acc: 0.9915 - val_loss: 1.2436 - val_acc: 0.9520\n",
            "Epoch 50/100\n",
            "100/100 [==============================] - 17s 173ms/step - loss: 0.0310 - acc: 0.9920 - val_loss: 0.2246 - val_acc: 0.9560\n",
            "Epoch 51/100\n",
            "100/100 [==============================] - 17s 175ms/step - loss: 0.0282 - acc: 0.9905 - val_loss: 0.8563 - val_acc: 0.9540\n",
            "Epoch 52/100\n",
            "100/100 [==============================] - 18s 177ms/step - loss: 0.0169 - acc: 0.9945 - val_loss: 0.0069 - val_acc: 0.9560\n",
            "Epoch 53/100\n",
            "100/100 [==============================] - 17s 174ms/step - loss: 0.0352 - acc: 0.9880 - val_loss: 2.4567e-07 - val_acc: 0.9520\n",
            "Epoch 54/100\n",
            "100/100 [==============================] - 17s 173ms/step - loss: 0.0369 - acc: 0.9900 - val_loss: 0.0023 - val_acc: 0.9620\n",
            "Epoch 55/100\n",
            "100/100 [==============================] - 17s 173ms/step - loss: 0.0164 - acc: 0.9945 - val_loss: 0.1661 - val_acc: 0.9590\n",
            "Epoch 56/100\n",
            "100/100 [==============================] - 17s 173ms/step - loss: 0.0189 - acc: 0.9940 - val_loss: 3.2586e-05 - val_acc: 0.9580\n",
            "Epoch 57/100\n",
            "100/100 [==============================] - 17s 174ms/step - loss: 0.0286 - acc: 0.9925 - val_loss: 0.1265 - val_acc: 0.9540\n",
            "Epoch 58/100\n",
            "100/100 [==============================] - 17s 172ms/step - loss: 0.0268 - acc: 0.9905 - val_loss: 0.8286 - val_acc: 0.9540\n",
            "Epoch 59/100\n",
            "100/100 [==============================] - 17s 173ms/step - loss: 0.0286 - acc: 0.9895 - val_loss: 0.2425 - val_acc: 0.9550\n",
            "Epoch 60/100\n",
            "100/100 [==============================] - 17s 174ms/step - loss: 0.0220 - acc: 0.9910 - val_loss: 0.2887 - val_acc: 0.9580\n",
            "Epoch 61/100\n",
            "100/100 [==============================] - 17s 174ms/step - loss: 0.0089 - acc: 0.9980 - val_loss: 0.3276 - val_acc: 0.9610\n",
            "Epoch 62/100\n",
            "100/100 [==============================] - 17s 174ms/step - loss: 0.0487 - acc: 0.9865 - val_loss: 0.1598 - val_acc: 0.9620\n",
            "Epoch 63/100\n",
            "100/100 [==============================] - 17s 175ms/step - loss: 0.0261 - acc: 0.9905 - val_loss: 1.0777e-04 - val_acc: 0.9580\n",
            "Epoch 64/100\n",
            "100/100 [==============================] - 17s 174ms/step - loss: 0.0241 - acc: 0.9935 - val_loss: 0.0240 - val_acc: 0.9580\n",
            "Epoch 65/100\n",
            "100/100 [==============================] - 17s 175ms/step - loss: 0.0304 - acc: 0.9910 - val_loss: 1.0431 - val_acc: 0.9580\n",
            "Epoch 66/100\n",
            "100/100 [==============================] - 17s 174ms/step - loss: 0.0187 - acc: 0.9925 - val_loss: 0.1552 - val_acc: 0.9510\n",
            "Epoch 67/100\n",
            "100/100 [==============================] - 17s 173ms/step - loss: 0.0265 - acc: 0.9905 - val_loss: 0.2313 - val_acc: 0.9560\n",
            "Epoch 68/100\n",
            "100/100 [==============================] - 17s 171ms/step - loss: 0.0175 - acc: 0.9955 - val_loss: 2.8595e-05 - val_acc: 0.9530\n",
            "Epoch 69/100\n",
            "100/100 [==============================] - 18s 176ms/step - loss: 0.0306 - acc: 0.9915 - val_loss: 1.4204e-04 - val_acc: 0.9600\n",
            "Epoch 70/100\n",
            "100/100 [==============================] - 17s 174ms/step - loss: 0.0257 - acc: 0.9905 - val_loss: 7.9708e-06 - val_acc: 0.9510\n",
            "Epoch 71/100\n",
            "100/100 [==============================] - 17s 173ms/step - loss: 0.0300 - acc: 0.9910 - val_loss: 0.5471 - val_acc: 0.9550\n",
            "Epoch 72/100\n",
            "100/100 [==============================] - 17s 173ms/step - loss: 0.0309 - acc: 0.9930 - val_loss: 0.6109 - val_acc: 0.9580\n",
            "Epoch 73/100\n",
            "100/100 [==============================] - 17s 172ms/step - loss: 0.0172 - acc: 0.9945 - val_loss: 0.0011 - val_acc: 0.9580\n",
            "Epoch 74/100\n",
            "100/100 [==============================] - 17s 174ms/step - loss: 0.0264 - acc: 0.9900 - val_loss: 0.7003 - val_acc: 0.9580\n",
            "Epoch 75/100\n",
            "100/100 [==============================] - 17s 175ms/step - loss: 0.0277 - acc: 0.9905 - val_loss: 5.9679e-04 - val_acc: 0.9580\n",
            "Epoch 76/100\n",
            "100/100 [==============================] - 17s 173ms/step - loss: 0.0179 - acc: 0.9935 - val_loss: 1.5508e-07 - val_acc: 0.9590\n",
            "Epoch 77/100\n",
            "100/100 [==============================] - 17s 173ms/step - loss: 0.0164 - acc: 0.9945 - val_loss: 0.1622 - val_acc: 0.9560\n",
            "Epoch 78/100\n",
            "100/100 [==============================] - 17s 173ms/step - loss: 0.0372 - acc: 0.9865 - val_loss: 3.1663e-05 - val_acc: 0.9560\n",
            "Epoch 79/100\n",
            "100/100 [==============================] - 17s 174ms/step - loss: 0.0154 - acc: 0.9930 - val_loss: 1.3983e-07 - val_acc: 0.9610\n",
            "Epoch 80/100\n",
            "100/100 [==============================] - 17s 175ms/step - loss: 0.0189 - acc: 0.9930 - val_loss: 0.0023 - val_acc: 0.9580\n",
            "Epoch 81/100\n",
            "100/100 [==============================] - 17s 173ms/step - loss: 0.0169 - acc: 0.9930 - val_loss: 0.7400 - val_acc: 0.9510\n",
            "Epoch 82/100\n",
            "100/100 [==============================] - 17s 173ms/step - loss: 0.0189 - acc: 0.9950 - val_loss: 1.0031 - val_acc: 0.9600\n",
            "Epoch 83/100\n",
            "100/100 [==============================] - 17s 172ms/step - loss: 0.0240 - acc: 0.9910 - val_loss: 0.0014 - val_acc: 0.9560\n",
            "Epoch 84/100\n",
            "100/100 [==============================] - 17s 174ms/step - loss: 0.0175 - acc: 0.9925 - val_loss: 0.0011 - val_acc: 0.9600\n",
            "Epoch 85/100\n",
            "100/100 [==============================] - 17s 174ms/step - loss: 0.0254 - acc: 0.9920 - val_loss: 0.0097 - val_acc: 0.9620\n",
            "Epoch 86/100\n",
            "100/100 [==============================] - 17s 172ms/step - loss: 0.0233 - acc: 0.9925 - val_loss: 0.0038 - val_acc: 0.9620\n",
            "Epoch 87/100\n",
            "100/100 [==============================] - 18s 176ms/step - loss: 0.0489 - acc: 0.9865 - val_loss: 0.0046 - val_acc: 0.9590\n",
            "Epoch 88/100\n",
            "100/100 [==============================] - 17s 174ms/step - loss: 0.0192 - acc: 0.9935 - val_loss: 0.0873 - val_acc: 0.9610\n",
            "Epoch 89/100\n",
            "100/100 [==============================] - 18s 176ms/step - loss: 0.0162 - acc: 0.9945 - val_loss: 0.6060 - val_acc: 0.9600\n",
            "Epoch 90/100\n",
            "100/100 [==============================] - 17s 174ms/step - loss: 0.0155 - acc: 0.9950 - val_loss: 1.1016 - val_acc: 0.9570\n",
            "Epoch 91/100\n",
            "100/100 [==============================] - 17s 175ms/step - loss: 0.0149 - acc: 0.9930 - val_loss: 0.0035 - val_acc: 0.9560\n",
            "Epoch 92/100\n",
            "100/100 [==============================] - 17s 174ms/step - loss: 0.0213 - acc: 0.9920 - val_loss: 3.2953e-06 - val_acc: 0.9590\n",
            "Epoch 93/100\n",
            "100/100 [==============================] - 17s 174ms/step - loss: 0.0181 - acc: 0.9935 - val_loss: 5.3027e-04 - val_acc: 0.9570\n",
            "Epoch 94/100\n",
            "100/100 [==============================] - 18s 175ms/step - loss: 0.0194 - acc: 0.9935 - val_loss: 0.0075 - val_acc: 0.9600\n",
            "Epoch 95/100\n",
            "100/100 [==============================] - 18s 176ms/step - loss: 0.0300 - acc: 0.9925 - val_loss: 0.0572 - val_acc: 0.9590\n",
            "Epoch 96/100\n",
            "100/100 [==============================] - 17s 174ms/step - loss: 0.0229 - acc: 0.9915 - val_loss: 0.6921 - val_acc: 0.9590\n",
            "Epoch 97/100\n",
            "100/100 [==============================] - 17s 173ms/step - loss: 0.0193 - acc: 0.9900 - val_loss: 0.0440 - val_acc: 0.9540\n",
            "Epoch 98/100\n",
            "100/100 [==============================] - 18s 176ms/step - loss: 0.0257 - acc: 0.9910 - val_loss: 0.0075 - val_acc: 0.9590\n",
            "Epoch 99/100\n",
            "100/100 [==============================] - 17s 174ms/step - loss: 0.0143 - acc: 0.9960 - val_loss: 1.7102e-05 - val_acc: 0.9600\n",
            "Epoch 100/100\n",
            "100/100 [==============================] - 17s 175ms/step - loss: 0.0294 - acc: 0.9925 - val_loss: 2.0159 - val_acc: 0.9580\n"
          ],
          "name": "stdout"
        }
      ]
    },
    {
      "cell_type": "markdown",
      "metadata": {
        "id": "eVBQgh5M-Rtz",
        "colab_type": "text"
      },
      "source": [
        "## Display learning curves during fine-tuning"
      ]
    },
    {
      "cell_type": "code",
      "metadata": {
        "id": "mbkIw7Ie-NP4",
        "colab_type": "code",
        "outputId": "98a73c55-3135-44a5-9149-c48f86d29396",
        "colab": {
          "base_uri": "https://localhost:8080/",
          "height": 545
        }
      },
      "source": [
        "%matplotlib inline\n",
        "\n",
        "import matplotlib.pyplot as plt\n",
        "\n",
        "acc = history.history['acc']\n",
        "val_acc = history.history['val_acc']\n",
        "\n",
        "loss = history.history['loss']\n",
        "val_loss = history.history['val_loss']\n",
        "\n",
        "epochs = range(1, len(acc) + 1)\n",
        "\n",
        "# training and validation accuracy\n",
        "\n",
        "plt.plot(epochs, acc, 'bo', label='training acc')\n",
        "plt.plot(epochs, val_acc, 'b', label='validation acc')\n",
        "plt.title('training and validation accuracy')\n",
        "plt.legend()\n",
        "\n",
        "plt.figure()\n",
        "\n",
        "# training and validation loss\n",
        "\n",
        "plt.plot(epochs, loss, 'bo', label='training loss')\n",
        "plt.plot(epochs, val_loss, 'b', label='validation loss')\n",
        "plt.title('training and validation loss')\n",
        "plt.legend()\n",
        "\n",
        "plt.show()"
      ],
      "execution_count": 0,
      "outputs": [
        {
          "output_type": "display_data",
          "data": {
            "image/png": "[encoded data removed]",
            "text/plain": [
              "<Figure size 432x288 with 1 Axes>"
            ]
          },
          "metadata": {
            "tags": [],
            "needs_background": "light"
          }
        },
        {
          "output_type": "display_data",
          "data": {
            "image/png": "[encoded data removed]",
            "text/plain": [
              "<Figure size 432x288 with 1 Axes>"
            ]
          },
          "metadata": {
            "tags": [],
            "needs_background": "light"
          }
        }
      ]
    },
    {
      "cell_type": "markdown",
      "metadata": {
        "id": "obQi6N4ZShdi",
        "colab_type": "text"
      },
      "source": [
        "This looks like overfitting. I should try  adding dropout for the densely connected layer."
      ]
    },
    {
      "cell_type": "markdown",
      "metadata": {
        "id": "he3Nw6TOJwjx",
        "colab_type": "text"
      },
      "source": [
        "## Print out validation loss and accuracy"
      ]
    },
    {
      "cell_type": "code",
      "metadata": {
        "id": "SVQtrk7uJdhl",
        "colab_type": "code",
        "colab": {}
      },
      "source": [
        "val_loss, val_acc = model.evaluate_generator(validation_generator, steps=50)"
      ],
      "execution_count": 0,
      "outputs": []
    },
    {
      "cell_type": "code",
      "metadata": {
        "id": "HpdddLi1SUMe",
        "colab_type": "code",
        "colab": {}
      },
      "source": [
        "print(\"Validation loss:\", val_loss)\n",
        "print(\"Validation accuracy:\", val_acc)"
      ],
      "execution_count": 0,
      "outputs": []
    },
    {
      "cell_type": "markdown",
      "metadata": {
        "id": "7Ww756WToby8",
        "colab_type": "text"
      },
      "source": [
        "## Save the model"
      ]
    },
    {
      "cell_type": "code",
      "metadata": {
        "id": "0lTUpUdwobKW",
        "colab_type": "code",
        "colab": {}
      },
      "source": [
        "model_fname = 'cats_and_dogs_small_4.h5' \n",
        "model.save(model_fname)"
      ],
      "execution_count": 0,
      "outputs": []
    },
    {
      "cell_type": "code",
      "metadata": {
        "id": "YhEoI8ZTok-X",
        "colab_type": "code",
        "colab": {}
      },
      "source": [
        "from google.colab import files\n",
        "\n",
        "with open(model_fname, 'r') as f:\n",
        "  files.download(model_fname)"
      ],
      "execution_count": 0,
      "outputs": []
    }
  ]
}