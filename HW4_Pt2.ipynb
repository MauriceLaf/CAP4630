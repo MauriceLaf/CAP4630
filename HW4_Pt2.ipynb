{
  "nbformat": 4,
  "nbformat_minor": 0,
  "metadata": {
    "colab": {
      "name": "HW4_Pt2.ipynb",
      "provenance": [],
      "collapsed_sections": [],
      "include_colab_link": true
    },
    "kernelspec": {
      "name": "python3",
      "display_name": "Python 3"
    },
    "accelerator": "GPU"
  },
  "cells": [
    {
      "cell_type": "markdown",
      "metadata": {
        "id": "view-in-github",
        "colab_type": "text"
      },
      "source": [
        "<a href=\"https://colab.research.google.com/github/MauriceLaf/CAP4630/blob/master/HW4_Pt2.ipynb\" target=\"_parent\"><img src=\"https://colab.research.google.com/assets/colab-badge.svg\" alt=\"Open In Colab\"/></a>"
      ]
    },
    {
      "cell_type": "markdown",
      "metadata": {
        "id": "LiZJlM7Ck_LZ",
        "colab_type": "text"
      },
      "source": [
        "#HW 4 #3 Pt 2"
      ]
    },
    {
      "cell_type": "markdown",
      "metadata": {
        "id": "4OaytpkFZInY",
        "colab_type": "text"
      },
      "source": [
        "**To aid with grading, I have made new comments that I have added about data/decisions for classifiers in bold**"
      ]
    },
    {
      "cell_type": "markdown",
      "metadata": {
        "id": "BqIG8QHMLNOn",
        "colab_type": "text"
      },
      "source": [
        "## Download the data"
      ]
    },
    {
      "cell_type": "markdown",
      "metadata": {
        "id": "t3I1jd7cKV6_",
        "colab_type": "text"
      },
      "source": [
        "Download the example data, a zip. of 2,000 JPG pictures of cats and dogs and extract it locally in ```/tmp```.\n",
        "\n"
      ]
    },
    {
      "cell_type": "code",
      "metadata": {
        "id": "JWjprHEXJ5Qi",
        "colab_type": "code",
        "outputId": "670858c8-9d89-460e-b49e-bcaa00c4f3f6",
        "colab": {
          "base_uri": "https://localhost:8080/",
          "height": 237
        }
      },
      "source": [
        "!wget --no-check-certificate \\\n",
        "    https://storage.googleapis.com/mledu-datasets/cats_and_dogs_filtered.zip \\\n",
        "    -O /tmp/cats_and_dogs_filtered.zip"
      ],
      "execution_count": 0,
      "outputs": [
        {
          "output_type": "stream",
          "text": [
            "--2020-04-21 19:32:46--  https://storage.googleapis.com/mledu-datasets/cats_and_dogs_filtered.zip\n",
            "Resolving storage.googleapis.com (storage.googleapis.com)... 74.125.142.128, 2607:f8b0:400e:c07::80\n",
            "Connecting to storage.googleapis.com (storage.googleapis.com)|74.125.142.128|:443... connected.\n",
            "HTTP request sent, awaiting response... 200 OK\n",
            "Length: 68606236 (65M) [application/zip]\n",
            "Saving to: ‘/tmp/cats_and_dogs_filtered.zip’\n",
            "\n",
            "/tmp/cats_and_dogs_ 100%[===================>]  65.43M   127MB/s    in 0.5s    \n",
            "\n",
            "2020-04-21 19:32:46 (127 MB/s) - ‘/tmp/cats_and_dogs_filtered.zip’ saved [68606236/68606236]\n",
            "\n"
          ],
          "name": "stdout"
        }
      ]
    },
    {
      "cell_type": "code",
      "metadata": {
        "id": "WvoHtdA-K6Rw",
        "colab_type": "code",
        "colab": {}
      },
      "source": [
        "import os\n",
        "import zipfile\n",
        "\n",
        "local_zip = '/tmp/cats_and_dogs_filtered.zip'\n",
        "zip_ref = zipfile.ZipFile(local_zip, 'r')\n",
        "zip_ref.extractall('/tmp')\n",
        "zip_ref.close()"
      ],
      "execution_count": 0,
      "outputs": []
    },
    {
      "cell_type": "markdown",
      "metadata": {
        "id": "shZiOBnJMyy_",
        "colab_type": "text"
      },
      "source": [
        "Note that the data provided by Google does not have a test set."
      ]
    },
    {
      "cell_type": "code",
      "metadata": {
        "id": "dL8ikM89LlsH",
        "colab_type": "code",
        "colab": {}
      },
      "source": [
        "base_dir = '/tmp/cats_and_dogs_filtered'\n",
        "train_dir = os.path.join(base_dir, 'train')\n",
        "validation_dir = os.path.join(base_dir, 'validation')\n",
        "\n",
        "# Directory with our training cat pictures\n",
        "train_cats_dir = os.path.join(train_dir, 'cats')\n",
        "\n",
        "# Directory with our training dog pictures\n",
        "train_dogs_dir = os.path.join(train_dir, 'dogs')\n",
        "\n",
        "# Directory with our validation cat pictures\n",
        "validation_cats_dir = os.path.join(validation_dir, 'cats')\n",
        "\n",
        "# Directory with our validation dog pictures\n",
        "validation_dogs_dir = os.path.join(validation_dir, 'dogs')"
      ],
      "execution_count": 0,
      "outputs": []
    },
    {
      "cell_type": "markdown",
      "metadata": {
        "id": "inyP8bcdXnn-",
        "colab_type": "text"
      },
      "source": [
        "## Build network with MobileNetV2 convolution base and custom densely connected layers"
      ]
    },
    {
      "cell_type": "markdown",
      "metadata": {
        "id": "sWQBvOsgZQXW",
        "colab_type": "text"
      },
      "source": [
        "**I chose MobileNetV2 because of a source I found that both used MobileNetV2 and provided a good explanation of the uses of convolutionial bases as well as fine-tuning pre-trained models. SOURCE: https://www.tensorflow.org/tutorials/images/transfer_learning**"
      ]
    },
    {
      "cell_type": "markdown",
      "metadata": {
        "id": "kQ48W5T9rHWu",
        "colab_type": "text"
      },
      "source": [
        "### Load the convolutional base"
      ]
    },
    {
      "cell_type": "code",
      "metadata": {
        "id": "Y0FgtANCXm_H",
        "colab_type": "code",
        "outputId": "840b1b64-ffef-49de-db28-412bb39fe622",
        "colab": {
          "base_uri": "https://localhost:8080/",
          "height": 74
        }
      },
      "source": [
        "from keras.applications import MobileNetV2\n",
        "\n",
        "conv_base = MobileNetV2(\n",
        "    weights='imagenet', \n",
        "    include_top=False, \n",
        "    input_shape=(150, 150, 3))"
      ],
      "execution_count": 0,
      "outputs": [
        {
          "output_type": "stream",
          "text": [
            "/usr/local/lib/python3.6/dist-packages/keras_applications/mobilenet_v2.py:294: UserWarning: `input_shape` is undefined or non-square, or `rows` is not in [96, 128, 160, 192, 224]. Weights for input shape (224, 224) will be loaded as the default.\n",
            "  warnings.warn('`input_shape` is undefined or non-square, '\n"
          ],
          "name": "stderr"
        }
      ]
    },
    {
      "cell_type": "markdown",
      "metadata": {
        "id": "D6OBHOO9q1ou",
        "colab_type": "text"
      },
      "source": [
        "### Freeze the convolutional base"
      ]
    },
    {
      "cell_type": "code",
      "metadata": {
        "id": "UleRo4Dpq6Ld",
        "colab_type": "code",
        "colab": {}
      },
      "source": [
        "conv_base.trainable = False"
      ],
      "execution_count": 0,
      "outputs": []
    },
    {
      "cell_type": "markdown",
      "metadata": {
        "id": "Qfx6PqhPrb7Q",
        "colab_type": "text"
      },
      "source": [
        "### Concatenate the convolutional base and densely connected layers"
      ]
    },
    {
      "cell_type": "markdown",
      "metadata": {
        "id": "H6fCYq5JhGUI",
        "colab_type": "text"
      },
      "source": [
        "**Second of the two choices I went through was  the GlobalAveragePooling2D classifier. The global average pooling results are fed directly to the sigmoid layer.** SOURCE: https://towardsdatascience.com/transfer-learning-from-pre-trained-models-f2393f124751 "
      ]
    },
    {
      "cell_type": "code",
      "metadata": {
        "id": "qUpmocDAO3xm",
        "colab_type": "code",
        "colab": {}
      },
      "source": [
        "from keras import layers\n",
        "from keras import models\n",
        "from keras import optimizers\n",
        "\n",
        "model = models.Sequential()\n",
        "model.add(conv_base)\n",
        "model.add(layers.GlobalAveragePooling2D())\n",
        "model.add(layers.Dense(1, activation='sigmoid'))"
      ],
      "execution_count": 0,
      "outputs": []
    },
    {
      "cell_type": "code",
      "metadata": {
        "id": "Fh6gZSeAjF7c",
        "colab_type": "code",
        "outputId": "ed0f4ebf-45f8-4864-b6ed-338dd88a1f82",
        "colab": {
          "base_uri": "https://localhost:8080/",
          "height": 272
        }
      },
      "source": [
        "model.summary()"
      ],
      "execution_count": 0,
      "outputs": [
        {
          "output_type": "stream",
          "text": [
            "Model: \"sequential_11\"\n",
            "_________________________________________________________________\n",
            "Layer (type)                 Output Shape              Param #   \n",
            "=================================================================\n",
            "mobilenetv2_1.00_224 (Model) (None, 5, 5, 1280)        2257984   \n",
            "_________________________________________________________________\n",
            "global_average_pooling2d_11  (None, 1280)              0         \n",
            "_________________________________________________________________\n",
            "dense_15 (Dense)             (None, 1)                 1281      \n",
            "=================================================================\n",
            "Total params: 2,259,265\n",
            "Trainable params: 1,281\n",
            "Non-trainable params: 2,257,984\n",
            "_________________________________________________________________\n"
          ],
          "name": "stdout"
        }
      ]
    },
    {
      "cell_type": "markdown",
      "metadata": {
        "id": "eZjBiddhi5Qj",
        "colab_type": "text"
      },
      "source": [
        "## Train the model end to end with frozen convolutional base"
      ]
    },
    {
      "cell_type": "code",
      "metadata": {
        "id": "tfAQlC2Oi41L",
        "colab_type": "code",
        "outputId": "f99746b8-b202-426a-9529-170d78cd6cad",
        "colab": {
          "base_uri": "https://localhost:8080/",
          "height": 1000
        }
      },
      "source": [
        "from keras.preprocessing.image import ImageDataGenerator\n",
        "from keras import optimizers\n",
        "\n",
        "# data augmentation\n",
        "\n",
        "train_datagen = ImageDataGenerator(\n",
        "    rescale=1./255, \n",
        "    rotation_range=40,\n",
        "    width_shift_range=0.2,\n",
        "    height_shift_range=0.2,\n",
        "    shear_range=0.2,\n",
        "    zoom_range=0.2,\n",
        "    horizontal_flip=True,\n",
        "    fill_mode='nearest'\n",
        ")\n",
        "\n",
        "train_generator = train_datagen.flow_from_directory(\n",
        "    train_dir,\n",
        "    target_size=(150, 150),\n",
        "    batch_size=20,\n",
        "    class_mode='binary')\n",
        "\n",
        "validation_datagen = ImageDataGenerator(rescale=1./255)\n",
        "\n",
        "validation_generator = validation_datagen.flow_from_directory(\n",
        "    validation_dir,\n",
        "    target_size=(150, 150),\n",
        "    batch_size=20,\n",
        "    class_mode='binary')\n",
        "\n",
        "# compile model\n",
        "\n",
        "model.compile(\n",
        "    loss='binary_crossentropy', \n",
        "    optimizer=optimizers.RMSprop(lr=2e-5), \n",
        "    metrics=['acc'])\n",
        "\n",
        "# train\n",
        "\n",
        "history = model.fit_generator(\n",
        "    train_generator,\n",
        "    steps_per_epoch=100,\n",
        "    epochs=30,\n",
        "    validation_data=validation_generator,\n",
        "    validation_steps=50\n",
        ")"
      ],
      "execution_count": 0,
      "outputs": [
        {
          "output_type": "stream",
          "text": [
            "Found 2000 images belonging to 2 classes.\n",
            "Found 1000 images belonging to 2 classes.\n",
            "Epoch 1/30\n",
            "100/100 [==============================] - 26s 260ms/step - loss: 0.7404 - acc: 0.5480 - val_loss: 0.6241 - val_acc: 0.5420\n",
            "Epoch 2/30\n",
            "100/100 [==============================] - 17s 174ms/step - loss: 0.7186 - acc: 0.5635 - val_loss: 0.7392 - val_acc: 0.5980\n",
            "Epoch 3/30\n",
            "100/100 [==============================] - 17s 172ms/step - loss: 0.6848 - acc: 0.5785 - val_loss: 0.5159 - val_acc: 0.6560\n",
            "Epoch 4/30\n",
            "100/100 [==============================] - 18s 176ms/step - loss: 0.6570 - acc: 0.6100 - val_loss: 0.7582 - val_acc: 0.6960\n",
            "Epoch 5/30\n",
            "100/100 [==============================] - 17s 175ms/step - loss: 0.6356 - acc: 0.6370 - val_loss: 0.6178 - val_acc: 0.7300\n",
            "Epoch 6/30\n",
            "100/100 [==============================] - 17s 174ms/step - loss: 0.6111 - acc: 0.6705 - val_loss: 0.7663 - val_acc: 0.7530\n",
            "Epoch 7/30\n",
            "100/100 [==============================] - 17s 171ms/step - loss: 0.5968 - acc: 0.6785 - val_loss: 0.3138 - val_acc: 0.7670\n",
            "Epoch 8/30\n",
            "100/100 [==============================] - 17s 170ms/step - loss: 0.5678 - acc: 0.7075 - val_loss: 0.4643 - val_acc: 0.7800\n",
            "Epoch 9/30\n",
            "100/100 [==============================] - 17s 169ms/step - loss: 0.5580 - acc: 0.7160 - val_loss: 0.5840 - val_acc: 0.7940\n",
            "Epoch 10/30\n",
            "100/100 [==============================] - 17s 169ms/step - loss: 0.5319 - acc: 0.7410 - val_loss: 0.3503 - val_acc: 0.8010\n",
            "Epoch 11/30\n",
            "100/100 [==============================] - 17s 168ms/step - loss: 0.5249 - acc: 0.7410 - val_loss: 0.2280 - val_acc: 0.8200\n",
            "Epoch 12/30\n",
            "100/100 [==============================] - 17s 168ms/step - loss: 0.5214 - acc: 0.7330 - val_loss: 0.3823 - val_acc: 0.8280\n",
            "Epoch 13/30\n",
            "100/100 [==============================] - 17s 166ms/step - loss: 0.4906 - acc: 0.7695 - val_loss: 0.2965 - val_acc: 0.8390\n",
            "Epoch 14/30\n",
            "100/100 [==============================] - 16s 164ms/step - loss: 0.4792 - acc: 0.7770 - val_loss: 0.3254 - val_acc: 0.8480\n",
            "Epoch 15/30\n",
            "100/100 [==============================] - 16s 163ms/step - loss: 0.4764 - acc: 0.7830 - val_loss: 0.2396 - val_acc: 0.8550\n",
            "Epoch 16/30\n",
            "100/100 [==============================] - 17s 165ms/step - loss: 0.4619 - acc: 0.7880 - val_loss: 0.2408 - val_acc: 0.8640\n",
            "Epoch 17/30\n",
            "100/100 [==============================] - 16s 163ms/step - loss: 0.4549 - acc: 0.8000 - val_loss: 0.2867 - val_acc: 0.8650\n",
            "Epoch 18/30\n",
            "100/100 [==============================] - 16s 162ms/step - loss: 0.4653 - acc: 0.7840 - val_loss: 0.1169 - val_acc: 0.8700\n",
            "Epoch 19/30\n",
            "100/100 [==============================] - 16s 162ms/step - loss: 0.4360 - acc: 0.8045 - val_loss: 0.2087 - val_acc: 0.8720\n",
            "Epoch 20/30\n",
            "100/100 [==============================] - 16s 164ms/step - loss: 0.4325 - acc: 0.8070 - val_loss: 0.2398 - val_acc: 0.8760\n",
            "Epoch 21/30\n",
            "100/100 [==============================] - 16s 165ms/step - loss: 0.4280 - acc: 0.8185 - val_loss: 0.2168 - val_acc: 0.8760\n",
            "Epoch 22/30\n",
            "100/100 [==============================] - 16s 163ms/step - loss: 0.4172 - acc: 0.8250 - val_loss: 0.1149 - val_acc: 0.8800\n",
            "Epoch 23/30\n",
            "100/100 [==============================] - 16s 163ms/step - loss: 0.4258 - acc: 0.7990 - val_loss: 0.1485 - val_acc: 0.8800\n",
            "Epoch 24/30\n",
            "100/100 [==============================] - 16s 162ms/step - loss: 0.4113 - acc: 0.8210 - val_loss: 0.0708 - val_acc: 0.8810\n",
            "Epoch 25/30\n",
            "100/100 [==============================] - 16s 163ms/step - loss: 0.4096 - acc: 0.8195 - val_loss: 0.1855 - val_acc: 0.8830\n",
            "Epoch 26/30\n",
            "100/100 [==============================] - 16s 164ms/step - loss: 0.4065 - acc: 0.8105 - val_loss: 0.4397 - val_acc: 0.8840\n",
            "Epoch 27/30\n",
            "100/100 [==============================] - 16s 162ms/step - loss: 0.3930 - acc: 0.8285 - val_loss: 0.3475 - val_acc: 0.8850\n",
            "Epoch 28/30\n",
            "100/100 [==============================] - 16s 162ms/step - loss: 0.3840 - acc: 0.8285 - val_loss: 0.0867 - val_acc: 0.8850\n",
            "Epoch 29/30\n",
            "100/100 [==============================] - 16s 162ms/step - loss: 0.3903 - acc: 0.8205 - val_loss: 0.0787 - val_acc: 0.8880\n",
            "Epoch 30/30\n",
            "100/100 [==============================] - 16s 162ms/step - loss: 0.3966 - acc: 0.8235 - val_loss: 0.3628 - val_acc: 0.8910\n"
          ],
          "name": "stdout"
        }
      ]
    },
    {
      "cell_type": "markdown",
      "metadata": {
        "id": "Xar-DOI9hiwV",
        "colab_type": "text"
      },
      "source": [
        "**These initial results are worse than the initial results of the dense connected layer. However, this isn't yet fine tuned.**"
      ]
    },
    {
      "cell_type": "markdown",
      "metadata": {
        "id": "xqRc_vHKc92U",
        "colab_type": "text"
      },
      "source": [
        "## Display curves of loss and accuracy during training"
      ]
    },
    {
      "cell_type": "code",
      "metadata": {
        "id": "ybWwdzz9bwuQ",
        "colab_type": "code",
        "outputId": "e90c3957-fe8e-4ed4-ec8c-b31d23d08afb",
        "colab": {
          "base_uri": "https://localhost:8080/",
          "height": 545
        }
      },
      "source": [
        "%matplotlib inline\n",
        "\n",
        "import matplotlib.pyplot as plt\n",
        "\n",
        "acc = history.history['acc']\n",
        "val_acc = history.history['val_acc']\n",
        "\n",
        "loss = history.history['loss']\n",
        "val_loss = history.history['val_loss']\n",
        "\n",
        "epochs = range(1, len(acc) + 1)\n",
        "\n",
        "# training and validation accuracy\n",
        "\n",
        "plt.plot(epochs, acc, 'bo', label='training acc')\n",
        "plt.plot(epochs, val_acc, 'b', label='validation acc')\n",
        "plt.title('training and validation accuracy')\n",
        "plt.legend()\n",
        "\n",
        "plt.figure()\n",
        "\n",
        "# training and validation loss\n",
        "\n",
        "plt.plot(epochs, loss, 'bo', label='training loss')\n",
        "plt.plot(epochs, val_loss, 'b', label='validation loss')\n",
        "plt.title('training and validation loss')\n",
        "plt.legend()\n",
        "\n",
        "plt.show()"
      ],
      "execution_count": 0,
      "outputs": [
        {
          "output_type": "display_data",
          "data": {
            "image/png": "[encoded data removed]",
            "text/plain": [
              "<Figure size 432x288 with 1 Axes>"
            ]
          },
          "metadata": {
            "tags": [],
            "needs_background": "light"
          }
        },
        {
          "output_type": "display_data",
          "data": {
            "image/png": "[encoded data removed]",
            "text/plain": [
              "<Figure size 432x288 with 1 Axes>"
            ]
          },
          "metadata": {
            "tags": [],
            "needs_background": "light"
          }
        }
      ]
    },
    {
      "cell_type": "markdown",
      "metadata": {
        "id": "VubwqSu3gKWb",
        "colab_type": "text"
      },
      "source": [
        "**Using these classifiers, the overfitting is already less prevalent than with the dense connected layers.**"
      ]
    },
    {
      "cell_type": "markdown",
      "metadata": {
        "id": "lOWsxpey8lN0",
        "colab_type": "text"
      },
      "source": [
        "## Fine-tuning"
      ]
    },
    {
      "cell_type": "markdown",
      "metadata": {
        "id": "Tc_FT90Da1yO",
        "colab_type": "text"
      },
      "source": [
        "**For MobileNetV2, fine tuning the upper layers allows us to retrain the non-generalize image reading layers and the more specific layers to recognize cats and dogs. The lower a layer is, the more general it is, and the higher a layer is, the more specific it is.**\n",
        "\n",
        "\n",
        "**I selected the first 105 layers to fine tune**\n",
        "\n",
        "**Source: https://www.tensorflow.org/tutorials/images/transfer_learning**"
      ]
    },
    {
      "cell_type": "code",
      "metadata": {
        "id": "PwkVMx8N8qMw",
        "colab_type": "code",
        "outputId": "6676c608-a777-4c82-9335-928001558cd7",
        "colab": {
          "base_uri": "https://localhost:8080/",
          "height": 35
        }
      },
      "source": [
        "conv_base.trainable = True\n",
        "\n",
        "print(\"Number of layers in the base model: \", len(conv_base.layers))\n",
        "\n",
        "# Fine-tune from this layer onwards\n",
        "fine_tune_at = 105\n",
        "\n",
        "# Freeze all layers below the 50th to the bottom layer\n",
        "for layer in conv_base.layers[:fine_tune_at]:\n",
        "  layer.trainable =  False"
      ],
      "execution_count": 0,
      "outputs": [
        {
          "output_type": "stream",
          "text": [
            "Number of layers in the base model:  155\n"
          ],
          "name": "stdout"
        }
      ]
    },
    {
      "cell_type": "code",
      "metadata": {
        "id": "DyN-J7rs9cvo",
        "colab_type": "code",
        "outputId": "eb3ece65-087a-47a1-f7f0-63c12cc2c393",
        "colab": {
          "base_uri": "https://localhost:8080/",
          "height": 1000
        }
      },
      "source": [
        "# compile model\n",
        "\n",
        "model.compile(\n",
        "    loss='binary_crossentropy',\n",
        "    #\n",
        "    # choose a smaller learning rate\n",
        "    #\n",
        "    optimizer=optimizers.RMSprop(lr=1e-5), \n",
        "    metrics=['acc'])\n",
        "\n",
        "# train\n",
        "\n",
        "history = model.fit_generator(\n",
        "    train_generator,\n",
        "    steps_per_epoch=100,\n",
        "    epochs=100,\n",
        "    validation_data=validation_generator,\n",
        "    validation_steps=50)"
      ],
      "execution_count": 0,
      "outputs": [
        {
          "output_type": "stream",
          "text": [
            "Epoch 1/100\n",
            "100/100 [==============================] - 24s 239ms/step - loss: 0.0417 - acc: 0.9845 - val_loss: 0.1510 - val_acc: 0.9580\n",
            "Epoch 2/100\n",
            "100/100 [==============================] - 18s 180ms/step - loss: 0.0383 - acc: 0.9860 - val_loss: 0.1549 - val_acc: 0.9560\n",
            "Epoch 3/100\n",
            "100/100 [==============================] - 18s 178ms/step - loss: 0.0304 - acc: 0.9875 - val_loss: 0.1837 - val_acc: 0.9570\n",
            "Epoch 4/100\n",
            "100/100 [==============================] - 18s 179ms/step - loss: 0.0318 - acc: 0.9885 - val_loss: 0.0879 - val_acc: 0.9560\n",
            "Epoch 5/100\n",
            "100/100 [==============================] - 18s 179ms/step - loss: 0.0363 - acc: 0.9875 - val_loss: 0.0074 - val_acc: 0.9580\n",
            "Epoch 6/100\n",
            "100/100 [==============================] - 18s 179ms/step - loss: 0.0267 - acc: 0.9920 - val_loss: 0.3425 - val_acc: 0.9570\n",
            "Epoch 7/100\n",
            "100/100 [==============================] - 18s 181ms/step - loss: 0.0338 - acc: 0.9880 - val_loss: 0.1877 - val_acc: 0.9580\n",
            "Epoch 8/100\n",
            "100/100 [==============================] - 18s 177ms/step - loss: 0.0367 - acc: 0.9895 - val_loss: 0.0561 - val_acc: 0.9560\n",
            "Epoch 9/100\n",
            "100/100 [==============================] - 18s 177ms/step - loss: 0.0427 - acc: 0.9890 - val_loss: 0.0818 - val_acc: 0.9570\n",
            "Epoch 10/100\n",
            "100/100 [==============================] - 18s 177ms/step - loss: 0.0395 - acc: 0.9890 - val_loss: 0.0043 - val_acc: 0.9590\n",
            "Epoch 11/100\n",
            "100/100 [==============================] - 18s 178ms/step - loss: 0.0422 - acc: 0.9850 - val_loss: 0.3105 - val_acc: 0.9570\n",
            "Epoch 12/100\n",
            "100/100 [==============================] - 18s 177ms/step - loss: 0.0375 - acc: 0.9870 - val_loss: 0.0548 - val_acc: 0.9590\n",
            "Epoch 13/100\n",
            "100/100 [==============================] - 18s 176ms/step - loss: 0.0354 - acc: 0.9850 - val_loss: 0.0013 - val_acc: 0.9580\n",
            "Epoch 14/100\n",
            "100/100 [==============================] - 18s 179ms/step - loss: 0.0392 - acc: 0.9855 - val_loss: 0.4498 - val_acc: 0.9600\n",
            "Epoch 15/100\n",
            "100/100 [==============================] - 19s 188ms/step - loss: 0.0428 - acc: 0.9855 - val_loss: 0.1231 - val_acc: 0.9590\n",
            "Epoch 16/100\n",
            "100/100 [==============================] - 19s 189ms/step - loss: 0.0261 - acc: 0.9900 - val_loss: 0.0600 - val_acc: 0.9590\n",
            "Epoch 17/100\n",
            "100/100 [==============================] - 19s 189ms/step - loss: 0.0297 - acc: 0.9895 - val_loss: 0.0068 - val_acc: 0.9610\n",
            "Epoch 18/100\n",
            "100/100 [==============================] - 19s 187ms/step - loss: 0.0363 - acc: 0.9900 - val_loss: 0.2523 - val_acc: 0.9590\n",
            "Epoch 19/100\n",
            "100/100 [==============================] - 18s 181ms/step - loss: 0.0216 - acc: 0.9915 - val_loss: 0.1198 - val_acc: 0.9570\n",
            "Epoch 20/100\n",
            "100/100 [==============================] - 18s 182ms/step - loss: 0.0314 - acc: 0.9900 - val_loss: 0.1015 - val_acc: 0.9600\n",
            "Epoch 21/100\n",
            "100/100 [==============================] - 18s 180ms/step - loss: 0.0339 - acc: 0.9885 - val_loss: 0.4837 - val_acc: 0.9610\n",
            "Epoch 22/100\n",
            "100/100 [==============================] - 18s 178ms/step - loss: 0.0238 - acc: 0.9900 - val_loss: 0.0387 - val_acc: 0.9590\n",
            "Epoch 23/100\n",
            "100/100 [==============================] - 18s 179ms/step - loss: 0.0243 - acc: 0.9920 - val_loss: 0.1971 - val_acc: 0.9610\n",
            "Epoch 24/100\n",
            "100/100 [==============================] - 18s 180ms/step - loss: 0.0238 - acc: 0.9920 - val_loss: 0.1585 - val_acc: 0.9550\n",
            "Epoch 25/100\n",
            "100/100 [==============================] - 18s 179ms/step - loss: 0.0345 - acc: 0.9875 - val_loss: 0.0998 - val_acc: 0.9580\n",
            "Epoch 26/100\n",
            "100/100 [==============================] - 18s 178ms/step - loss: 0.0298 - acc: 0.9900 - val_loss: 0.0162 - val_acc: 0.9570\n",
            "Epoch 27/100\n",
            "100/100 [==============================] - 18s 178ms/step - loss: 0.0236 - acc: 0.9930 - val_loss: 0.1408 - val_acc: 0.9560\n",
            "Epoch 28/100\n",
            "100/100 [==============================] - 18s 178ms/step - loss: 0.0234 - acc: 0.9925 - val_loss: 0.0489 - val_acc: 0.9580\n",
            "Epoch 29/100\n",
            "100/100 [==============================] - 18s 182ms/step - loss: 0.0331 - acc: 0.9905 - val_loss: 0.0472 - val_acc: 0.9600\n",
            "Epoch 30/100\n",
            "100/100 [==============================] - 18s 178ms/step - loss: 0.0327 - acc: 0.9850 - val_loss: 0.0040 - val_acc: 0.9600\n",
            "Epoch 31/100\n",
            "100/100 [==============================] - 18s 178ms/step - loss: 0.0277 - acc: 0.9915 - val_loss: 0.0078 - val_acc: 0.9560\n",
            "Epoch 32/100\n",
            "100/100 [==============================] - 18s 179ms/step - loss: 0.0249 - acc: 0.9895 - val_loss: 0.1349 - val_acc: 0.9580\n",
            "Epoch 33/100\n",
            "100/100 [==============================] - 18s 179ms/step - loss: 0.0279 - acc: 0.9890 - val_loss: 0.3183 - val_acc: 0.9630\n",
            "Epoch 34/100\n",
            "100/100 [==============================] - 18s 178ms/step - loss: 0.0244 - acc: 0.9905 - val_loss: 0.0301 - val_acc: 0.9600\n",
            "Epoch 35/100\n",
            "100/100 [==============================] - 18s 181ms/step - loss: 0.0252 - acc: 0.9905 - val_loss: 0.2109 - val_acc: 0.9600\n",
            "Epoch 36/100\n",
            "100/100 [==============================] - 18s 177ms/step - loss: 0.0244 - acc: 0.9910 - val_loss: 0.0014 - val_acc: 0.9620\n",
            "Epoch 37/100\n",
            "100/100 [==============================] - 18s 178ms/step - loss: 0.0407 - acc: 0.9835 - val_loss: 0.0013 - val_acc: 0.9630\n",
            "Epoch 38/100\n",
            "100/100 [==============================] - 18s 179ms/step - loss: 0.0203 - acc: 0.9915 - val_loss: 0.4985 - val_acc: 0.9610\n",
            "Epoch 39/100\n",
            "100/100 [==============================] - 18s 176ms/step - loss: 0.0152 - acc: 0.9945 - val_loss: 0.0309 - val_acc: 0.9610\n",
            "Epoch 40/100\n",
            "100/100 [==============================] - 18s 178ms/step - loss: 0.0275 - acc: 0.9875 - val_loss: 0.0081 - val_acc: 0.9620\n",
            "Epoch 41/100\n",
            "100/100 [==============================] - 18s 178ms/step - loss: 0.0263 - acc: 0.9910 - val_loss: 0.0011 - val_acc: 0.9600\n",
            "Epoch 42/100\n",
            "100/100 [==============================] - 18s 178ms/step - loss: 0.0251 - acc: 0.9920 - val_loss: 0.0710 - val_acc: 0.9550\n",
            "Epoch 43/100\n",
            "100/100 [==============================] - 18s 178ms/step - loss: 0.0230 - acc: 0.9915 - val_loss: 0.0238 - val_acc: 0.9610\n",
            "Epoch 44/100\n",
            "100/100 [==============================] - 18s 178ms/step - loss: 0.0291 - acc: 0.9900 - val_loss: 0.0078 - val_acc: 0.9590\n",
            "Epoch 45/100\n",
            "100/100 [==============================] - 18s 178ms/step - loss: 0.0330 - acc: 0.9840 - val_loss: 0.1106 - val_acc: 0.9620\n",
            "Epoch 46/100\n",
            "100/100 [==============================] - 18s 179ms/step - loss: 0.0209 - acc: 0.9930 - val_loss: 0.0102 - val_acc: 0.9560\n",
            "Epoch 47/100\n",
            "100/100 [==============================] - 18s 179ms/step - loss: 0.0168 - acc: 0.9935 - val_loss: 0.0402 - val_acc: 0.9560\n",
            "Epoch 48/100\n",
            "100/100 [==============================] - 18s 177ms/step - loss: 0.0327 - acc: 0.9905 - val_loss: 0.3946 - val_acc: 0.9560\n",
            "Epoch 49/100\n",
            "100/100 [==============================] - 18s 177ms/step - loss: 0.0214 - acc: 0.9915 - val_loss: 0.0258 - val_acc: 0.9590\n",
            "Epoch 50/100\n",
            "100/100 [==============================] - 18s 176ms/step - loss: 0.0262 - acc: 0.9925 - val_loss: 0.0228 - val_acc: 0.9580\n",
            "Epoch 51/100\n",
            "100/100 [==============================] - 18s 178ms/step - loss: 0.0244 - acc: 0.9900 - val_loss: 0.3424 - val_acc: 0.9520\n",
            "Epoch 52/100\n",
            "100/100 [==============================] - 18s 178ms/step - loss: 0.0224 - acc: 0.9915 - val_loss: 0.1566 - val_acc: 0.9550\n",
            "Epoch 53/100\n",
            "100/100 [==============================] - 18s 178ms/step - loss: 0.0260 - acc: 0.9935 - val_loss: 0.5142 - val_acc: 0.9540\n",
            "Epoch 54/100\n",
            "100/100 [==============================] - 18s 177ms/step - loss: 0.0247 - acc: 0.9900 - val_loss: 0.0413 - val_acc: 0.9560\n",
            "Epoch 55/100\n",
            "100/100 [==============================] - 18s 178ms/step - loss: 0.0214 - acc: 0.9925 - val_loss: 3.8043e-04 - val_acc: 0.9600\n",
            "Epoch 56/100\n",
            "100/100 [==============================] - 18s 179ms/step - loss: 0.0293 - acc: 0.9895 - val_loss: 0.0470 - val_acc: 0.9560\n",
            "Epoch 57/100\n",
            "100/100 [==============================] - 18s 178ms/step - loss: 0.0260 - acc: 0.9895 - val_loss: 0.0100 - val_acc: 0.9580\n",
            "Epoch 58/100\n",
            "100/100 [==============================] - 18s 178ms/step - loss: 0.0234 - acc: 0.9905 - val_loss: 0.0048 - val_acc: 0.9570\n",
            "Epoch 59/100\n",
            "100/100 [==============================] - 18s 179ms/step - loss: 0.0238 - acc: 0.9915 - val_loss: 1.5982e-04 - val_acc: 0.9580\n",
            "Epoch 60/100\n",
            "100/100 [==============================] - 18s 182ms/step - loss: 0.0187 - acc: 0.9930 - val_loss: 0.0168 - val_acc: 0.9570\n",
            "Epoch 61/100\n",
            "100/100 [==============================] - 18s 178ms/step - loss: 0.0297 - acc: 0.9870 - val_loss: 1.2003e-04 - val_acc: 0.9550\n",
            "Epoch 62/100\n",
            "100/100 [==============================] - 18s 178ms/step - loss: 0.0215 - acc: 0.9915 - val_loss: 0.3108 - val_acc: 0.9580\n",
            "Epoch 63/100\n",
            "100/100 [==============================] - 18s 178ms/step - loss: 0.0306 - acc: 0.9880 - val_loss: 0.2070 - val_acc: 0.9550\n",
            "Epoch 64/100\n",
            "100/100 [==============================] - 18s 178ms/step - loss: 0.0327 - acc: 0.9885 - val_loss: 0.1724 - val_acc: 0.9550\n",
            "Epoch 65/100\n",
            "100/100 [==============================] - 18s 179ms/step - loss: 0.0221 - acc: 0.9915 - val_loss: 0.0890 - val_acc: 0.9560\n",
            "Epoch 66/100\n",
            "100/100 [==============================] - 18s 177ms/step - loss: 0.0220 - acc: 0.9910 - val_loss: 0.1559 - val_acc: 0.9530\n",
            "Epoch 67/100\n",
            "100/100 [==============================] - 18s 177ms/step - loss: 0.0251 - acc: 0.9905 - val_loss: 0.0130 - val_acc: 0.9490\n",
            "Epoch 68/100\n",
            "100/100 [==============================] - 18s 177ms/step - loss: 0.0214 - acc: 0.9915 - val_loss: 0.3967 - val_acc: 0.9490\n",
            "Epoch 69/100\n",
            "100/100 [==============================] - 18s 179ms/step - loss: 0.0268 - acc: 0.9910 - val_loss: 0.0016 - val_acc: 0.9470\n",
            "Epoch 70/100\n",
            "100/100 [==============================] - 18s 179ms/step - loss: 0.0250 - acc: 0.9920 - val_loss: 0.0937 - val_acc: 0.9510\n",
            "Epoch 71/100\n",
            "100/100 [==============================] - 18s 177ms/step - loss: 0.0177 - acc: 0.9945 - val_loss: 0.0251 - val_acc: 0.9530\n",
            "Epoch 72/100\n",
            "100/100 [==============================] - 18s 178ms/step - loss: 0.0206 - acc: 0.9930 - val_loss: 0.0903 - val_acc: 0.9550\n",
            "Epoch 73/100\n",
            "100/100 [==============================] - 18s 177ms/step - loss: 0.0225 - acc: 0.9925 - val_loss: 0.2356 - val_acc: 0.9560\n",
            "Epoch 74/100\n",
            "100/100 [==============================] - 18s 177ms/step - loss: 0.0111 - acc: 0.9950 - val_loss: 0.2699 - val_acc: 0.9590\n",
            "Epoch 75/100\n",
            "100/100 [==============================] - 18s 177ms/step - loss: 0.0186 - acc: 0.9950 - val_loss: 0.2289 - val_acc: 0.9580\n",
            "Epoch 76/100\n",
            "100/100 [==============================] - 18s 177ms/step - loss: 0.0170 - acc: 0.9950 - val_loss: 0.6786 - val_acc: 0.9560\n",
            "Epoch 77/100\n",
            "100/100 [==============================] - 18s 177ms/step - loss: 0.0232 - acc: 0.9930 - val_loss: 0.0581 - val_acc: 0.9590\n",
            "Epoch 78/100\n",
            "100/100 [==============================] - 18s 178ms/step - loss: 0.0277 - acc: 0.9925 - val_loss: 0.2303 - val_acc: 0.9600\n",
            "Epoch 79/100\n",
            "100/100 [==============================] - 18s 178ms/step - loss: 0.0243 - acc: 0.9905 - val_loss: 0.0742 - val_acc: 0.9600\n",
            "Epoch 80/100\n",
            "100/100 [==============================] - 18s 178ms/step - loss: 0.0212 - acc: 0.9930 - val_loss: 0.0148 - val_acc: 0.9610\n",
            "Epoch 81/100\n",
            "100/100 [==============================] - 18s 179ms/step - loss: 0.0309 - acc: 0.9880 - val_loss: 0.4591 - val_acc: 0.9580\n",
            "Epoch 82/100\n",
            "100/100 [==============================] - 18s 179ms/step - loss: 0.0294 - acc: 0.9905 - val_loss: 0.1906 - val_acc: 0.9610\n",
            "Epoch 83/100\n",
            "100/100 [==============================] - 18s 179ms/step - loss: 0.0222 - acc: 0.9925 - val_loss: 0.0033 - val_acc: 0.9570\n",
            "Epoch 84/100\n",
            "100/100 [==============================] - 18s 177ms/step - loss: 0.0153 - acc: 0.9940 - val_loss: 0.0468 - val_acc: 0.9600\n",
            "Epoch 85/100\n",
            "100/100 [==============================] - 18s 176ms/step - loss: 0.0195 - acc: 0.9940 - val_loss: 0.0455 - val_acc: 0.9590\n",
            "Epoch 86/100\n",
            "100/100 [==============================] - 18s 176ms/step - loss: 0.0153 - acc: 0.9945 - val_loss: 0.1532 - val_acc: 0.9590\n",
            "Epoch 87/100\n",
            "100/100 [==============================] - 18s 179ms/step - loss: 0.0213 - acc: 0.9920 - val_loss: 0.1818 - val_acc: 0.9570\n",
            "Epoch 88/100\n",
            "100/100 [==============================] - 18s 178ms/step - loss: 0.0237 - acc: 0.9935 - val_loss: 0.0054 - val_acc: 0.9630\n",
            "Epoch 89/100\n",
            "100/100 [==============================] - 18s 177ms/step - loss: 0.0207 - acc: 0.9920 - val_loss: 2.0004e-04 - val_acc: 0.9580\n",
            "Epoch 90/100\n",
            "100/100 [==============================] - 18s 176ms/step - loss: 0.0206 - acc: 0.9930 - val_loss: 7.3266e-05 - val_acc: 0.9590\n",
            "Epoch 91/100\n",
            "100/100 [==============================] - 18s 177ms/step - loss: 0.0304 - acc: 0.9875 - val_loss: 0.0475 - val_acc: 0.9600\n",
            "Epoch 92/100\n",
            "100/100 [==============================] - 18s 179ms/step - loss: 0.0194 - acc: 0.9925 - val_loss: 0.0082 - val_acc: 0.9600\n",
            "Epoch 93/100\n",
            "100/100 [==============================] - 18s 177ms/step - loss: 0.0167 - acc: 0.9930 - val_loss: 0.0233 - val_acc: 0.9600\n",
            "Epoch 94/100\n",
            "100/100 [==============================] - 18s 177ms/step - loss: 0.0160 - acc: 0.9955 - val_loss: 0.4398 - val_acc: 0.9580\n",
            "Epoch 95/100\n",
            "100/100 [==============================] - 18s 178ms/step - loss: 0.0194 - acc: 0.9945 - val_loss: 0.1926 - val_acc: 0.9580\n",
            "Epoch 96/100\n",
            "100/100 [==============================] - 18s 180ms/step - loss: 0.0171 - acc: 0.9930 - val_loss: 0.0456 - val_acc: 0.9580\n",
            "Epoch 97/100\n",
            "100/100 [==============================] - 18s 180ms/step - loss: 0.0216 - acc: 0.9925 - val_loss: 0.4462 - val_acc: 0.9570\n",
            "Epoch 98/100\n",
            "100/100 [==============================] - 18s 180ms/step - loss: 0.0116 - acc: 0.9965 - val_loss: 0.2098 - val_acc: 0.9590\n",
            "Epoch 99/100\n",
            "100/100 [==============================] - 18s 178ms/step - loss: 0.0245 - acc: 0.9915 - val_loss: 0.4072 - val_acc: 0.9600\n",
            "Epoch 100/100\n",
            "100/100 [==============================] - 18s 179ms/step - loss: 0.0168 - acc: 0.9925 - val_loss: 0.7114 - val_acc: 0.9600\n"
          ],
          "name": "stdout"
        }
      ]
    },
    {
      "cell_type": "markdown",
      "metadata": {
        "id": "eVBQgh5M-Rtz",
        "colab_type": "text"
      },
      "source": [
        "## Display learning curves during fine-tuning"
      ]
    },
    {
      "cell_type": "code",
      "metadata": {
        "id": "mbkIw7Ie-NP4",
        "colab_type": "code",
        "outputId": "9fed6a16-9013-44cb-a1bd-71b305760b99",
        "colab": {
          "base_uri": "https://localhost:8080/",
          "height": 545
        }
      },
      "source": [
        "%matplotlib inline\n",
        "\n",
        "import matplotlib.pyplot as plt\n",
        "\n",
        "acc = history.history['acc']\n",
        "val_acc = history.history['val_acc']\n",
        "\n",
        "loss = history.history['loss']\n",
        "val_loss = history.history['val_loss']\n",
        "\n",
        "epochs = range(1, len(acc) + 1)\n",
        "\n",
        "# training and validation accuracy\n",
        "\n",
        "plt.plot(epochs, acc, 'bo', label='training acc')\n",
        "plt.plot(epochs, val_acc, 'b', label='validation acc')\n",
        "plt.title('training and validation accuracy')\n",
        "plt.legend()\n",
        "\n",
        "plt.figure()\n",
        "\n",
        "# training and validation loss\n",
        "\n",
        "plt.plot(epochs, loss, 'bo', label='training loss')\n",
        "plt.plot(epochs, val_loss, 'b', label='validation loss')\n",
        "plt.title('training and validation loss')\n",
        "plt.legend()\n",
        "\n",
        "plt.show()"
      ],
      "execution_count": 0,
      "outputs": [
        {
          "output_type": "display_data",
          "data": {
            "image/png": "[encoded data removed]",
            "text/plain": [
              "<Figure size 432x288 with 1 Axes>"
            ]
          },
          "metadata": {
            "tags": [],
            "needs_background": "light"
          }
        },
        {
          "output_type": "display_data",
          "data": {
            "image/png": "[encoded data removed]",
            "text/plain": [
              "<Figure size 432x288 with 1 Axes>"
            ]
          },
          "metadata": {
            "tags": [],
            "needs_background": "light"
          }
        }
      ]
    },
    {
      "cell_type": "markdown",
      "metadata": {
        "id": "ulJlFEbvjcNX",
        "colab_type": "text"
      },
      "source": [
        "**The trained model is significantly more accurate and doesn't show that many jumps in the validation accuracy. The training accuracy is also very high. The increase in validation loss does signify overfitting, however.**"
      ]
    },
    {
      "cell_type": "markdown",
      "metadata": {
        "id": "he3Nw6TOJwjx",
        "colab_type": "text"
      },
      "source": [
        "## Print out validation loss and accuracy"
      ]
    },
    {
      "cell_type": "code",
      "metadata": {
        "id": "SVQtrk7uJdhl",
        "colab_type": "code",
        "colab": {}
      },
      "source": [
        "val_loss, val_acc = model.evaluate_generator(validation_generator, steps=50)"
      ],
      "execution_count": 0,
      "outputs": []
    },
    {
      "cell_type": "code",
      "metadata": {
        "id": "HpdddLi1SUMe",
        "colab_type": "code",
        "outputId": "3f64df7d-1654-4c43-c6f7-d1771d8b3368",
        "colab": {
          "base_uri": "https://localhost:8080/",
          "height": 50
        }
      },
      "source": [
        "print(\"Validation loss:\", val_loss)\n",
        "print(\"Validation accuracy:\", val_acc)"
      ],
      "execution_count": 0,
      "outputs": [
        {
          "output_type": "stream",
          "text": [
            "Validation loss: 0.2544833068206435\n",
            "Validation accuracy: 0.9499999916553498\n"
          ],
          "name": "stdout"
        }
      ]
    },
    {
      "cell_type": "markdown",
      "metadata": {
        "id": "7Ww756WToby8",
        "colab_type": "text"
      },
      "source": [
        "## Save the model"
      ]
    },
    {
      "cell_type": "code",
      "metadata": {
        "id": "0lTUpUdwobKW",
        "colab_type": "code",
        "colab": {}
      },
      "source": [
        "model_fname = 'cats_and_dogs_small_4.h5' \n",
        "model.save(model_fname)"
      ],
      "execution_count": 0,
      "outputs": []
    },
    {
      "cell_type": "code",
      "metadata": {
        "id": "YhEoI8ZTok-X",
        "colab_type": "code",
        "colab": {}
      },
      "source": [
        "from google.colab import files\n",
        "\n",
        "with open(model_fname, 'r') as f:\n",
        "  files.download(model_fname)"
      ],
      "execution_count": 0,
      "outputs": []
    },
    {
      "cell_type": "markdown",
      "metadata": {
        "id": "xx_iMadFkOAB",
        "colab_type": "text"
      },
      "source": [
        "##**Mini Conclusion:**"
      ]
    },
    {
      "cell_type": "markdown",
      "metadata": {
        "id": "3H8hY46nkVw7",
        "colab_type": "text"
      },
      "source": [
        "**While there is overfitting prevalent in both models, I believe that the jumps are significantly less intense in this model using MaxPooling.**"
      ]
    }
  ]
}